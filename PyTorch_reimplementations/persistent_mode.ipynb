{
 "cells": [
  {
   "cell_type": "code",
   "execution_count": 248,
   "metadata": {
    "colab": {
     "base_uri": "https://localhost:8080/"
    },
    "id": "1RN1Tc1aEcsI",
    "outputId": "44e4dbd1-e3ab-4d73-cd06-16843def4a33"
   },
   "outputs": [
    {
     "name": "stdout",
     "output_type": "stream",
     "text": [
      "device is cuda:3\n"
     ]
    }
   ],
   "source": [
    "import os\n",
    "os.environ['FFMPEG_BINARY'] = 'ffmpeg'\n",
    "\n",
    "import io\n",
    "import PIL.Image, PIL.ImageDraw\n",
    "\n",
    "import requests\n",
    "\n",
    "import einops\n",
    "import numpy as np\n",
    "import matplotlib.pyplot as plt\n",
    "import tqdm\n",
    "\n",
    "import torch\n",
    "import torch.nn as nn\n",
    "import torch.nn.functional as F\n",
    "\n",
    "# Notebook dependencies\n",
    "from IPython.display import clear_output, Image\n",
    "\n",
    "from original_utils import *\n",
    "\n",
    "import importlib\n",
    "import sys\n",
    "importlib.reload(sys.modules['original_utils'])\n",
    "from original_utils import *\n",
    "\n",
    "device_id = 3\n",
    "device = torch.device(f'cuda:{device_id}' if torch.cuda.is_available() else 'cpu')\n",
    "print('device is {}'.format(device))"
   ]
  },
  {
   "cell_type": "code",
   "execution_count": 132,
   "metadata": {
    "id": "1tsyf9fsGIbF"
   },
   "outputs": [],
   "source": [
    "# Parameters\n",
    "\n",
    "CHANNEL_N = 16\n",
    "TARGET_PADDING = 16\n",
    "BATCH_SIZE = 8\n",
    "POOL_SIZE = 1024\n",
    "CELL_FIRE_RATE = 0.5\n",
    "\n",
    "TARGET_EMOJI = \"🛩\"\n",
    "\n",
    "USE_PATTERN_POOL = True # set in \"persistent\" mode\n",
    "\n",
    "# Load target image\n",
    "target_img = load_emoji(TARGET_EMOJI)"
   ]
  },
  {
   "cell_type": "code",
   "execution_count": 133,
   "metadata": {
    "colab": {
     "base_uri": "https://localhost:8080/",
     "height": 267
    },
    "id": "ZAKqbC39Jvmw",
    "outputId": "feaa8203-127e-4bae-eff8-7cb7142d0cbc"
   },
   "outputs": [
    {
     "data": {
      "image/png": "[encoded data removed]",
      "text/plain": [
       "<Figure size 640x480 with 1 Axes>"
      ]
     },
     "metadata": {},
     "output_type": "display_data"
    }
   ],
   "source": [
    "plt.imshow(target_img)\n",
    "plt.show()"
   ]
  },
  {
   "cell_type": "code",
   "execution_count": 117,
   "metadata": {},
   "outputs": [
    {
     "data": {
      "image/png": "[encoded data removed]",
      "text/plain": [
       "<IPython.core.display.Image object>"
      ]
     },
     "metadata": {},
     "output_type": "display_data"
    }
   ],
   "source": [
    "imshow(target_img)"
   ]
  },
  {
   "cell_type": "code",
   "execution_count": 41,
   "metadata": {
    "colab": {
     "base_uri": "https://localhost:8080/"
    },
    "id": "J8Q54-JtRMkB",
    "outputId": "60db4616-b4d6-4be3-ad55-60954fbbc32c"
   },
   "outputs": [
    {
     "data": {
      "text/plain": [
       "Sequential(\n",
       "  (0): Conv2d(48, 128, kernel_size=(1, 1), stride=(1, 1))\n",
       "  (1): ReLU()\n",
       "  (2): Conv2d(128, 16, kernel_size=(1, 1), stride=(1, 1))\n",
       ")"
      ]
     },
     "execution_count": 41,
     "metadata": {},
     "output_type": "execute_result"
    }
   ],
   "source": [
    "# Define Model\n",
    "\n",
    "class CAModel(nn.Module):\n",
    "  def __init__(self, channel_n=CHANNEL_N, fire_rate=CELL_FIRE_RATE):\n",
    "    super().__init__()\n",
    "    self.channel_n = channel_n\n",
    "    self.fire_rate = fire_rate\n",
    "\n",
    "    conv1 = nn.Conv2d(in_channels=self.channel_n*3, out_channels=128, kernel_size=1)\n",
    "    conv2 = nn.Conv2d(in_channels=128, out_channels=self.channel_n, kernel_size=1)\n",
    "    \n",
    "    # Apply \"do-nothing\" initial behavior\n",
    "    # torch.nn.init.xavier_uniform_(conv1.weight) # default to how tensorflow initializes the weights\n",
    "    torch.nn.init.zeros_(conv2.weight)\n",
    "    torch.nn.init.zeros_(conv1.bias)\n",
    "    torch.nn.init.zeros_(conv2.bias)\n",
    "\n",
    "    self.dmodel = nn.Sequential(\n",
    "        conv1,\n",
    "        nn.ReLU(),\n",
    "        conv2,\n",
    "    )\n",
    "    \n",
    "  def perceive(self, x, angle=0.0):\n",
    "    \"\"\"Pytorch does convolutions differently. Reshape accordingly\n",
    "      input is (batch, in_channels, H, W)\n",
    "      kernel is (filter_height, filter_width, in_channels, channel_multiplier) in TF\n",
    "      but should be (out_channels, in_channels / groups, H, W) in Torch\"\"\"\n",
    "    identify = torch.as_tensor([0, 1, 0], dtype=torch.float32)\n",
    "    identify = torch.outer(identify, identify)\n",
    "    dx = torch.as_tensor(np.outer([1, 2, 1], [-1, 0, 1]) / 8.0, dtype=torch.float32) # Sobel filter\n",
    "    dy = dx.T\n",
    "    c, s = torch.cos(torch.tensor(angle)), torch.sin(torch.tensor(angle))\n",
    "    stacked_filters = torch.stack((identify, c*dx-s*dy, s*dx+c*dy)).to(device)\n",
    "    kernel = torch.repeat_interleave(stacked_filters, self.channel_n, dim=0).view(self.channel_n*3, 1, 3, 3)\n",
    "    y = F.conv2d(x, kernel, padding='same', groups=self.channel_n)\n",
    "    return y\n",
    "\n",
    "  def forward(self, x, fire_rate=None, angle=0.0, step_size=1.0):\n",
    "    x = torch.permute(x, (0, 3, 1, 2)) # make it shape [batch_size, in_channels, H, W]\n",
    "    pre_life_mask = get_living_mask(x)\n",
    "\n",
    "    y = self.perceive(x, angle) # y should be on device\n",
    "    dx = self.dmodel(y)*step_size\n",
    "    if fire_rate is None:\n",
    "      fire_rate = self.fire_rate\n",
    "    update_mask = torch.rand(x[:, :1, :, :].shape, device=device, dtype=torch.float32) <= fire_rate\n",
    "    x = x + dx * update_mask\n",
    "\n",
    "    post_life_mask = get_living_mask(x)\n",
    "    life_mask = pre_life_mask & post_life_mask\n",
    "    result = x * life_mask\n",
    "    return torch.permute(result, (0, 2, 3, 1)) # send it back [batch_size, H, W, in_channels]\n",
    "\n",
    "CAModel().dmodel"
   ]
  },
  {
   "cell_type": "code",
   "execution_count": 42,
   "metadata": {
    "colab": {
     "base_uri": "https://localhost:8080/",
     "height": 285
    },
    "id": "p88u8q9EGIdv",
    "outputId": "a60e7dde-8040-4216-80db-410cc668d996"
   },
   "outputs": [
    {
     "name": "stdout",
     "output_type": "stream",
     "text": [
      "seed shape is torch.Size([72, 72, 16])\n"
     ]
    },
    {
     "data": {
      "image/png": "[encoded data removed]",
      "text/plain": [
       "<Figure size 640x480 with 1 Axes>"
      ]
     },
     "metadata": {},
     "output_type": "display_data"
    }
   ],
   "source": [
    "# Make training sample\n",
    "\n",
    "p = TARGET_PADDING\n",
    "target_img_tensor = torch.tensor(target_img)\n",
    "pad_target = torch.nn.functional.pad(target_img_tensor, (0, 0, p, p, p, p))\n",
    "h, w = pad_target.shape[:2]\n",
    "seed = torch.zeros(h, w, CHANNEL_N, dtype=torch.float32)\n",
    "seed[h//2, w//2, 3:] = 1.0\n",
    "print(f'seed shape is {seed.shape}')\n",
    "\n",
    "plt.imshow(seed[..., :4])\n",
    "plt.show()"
   ]
  },
  {
   "cell_type": "code",
   "execution_count": 12,
   "metadata": {},
   "outputs": [],
   "source": [
    "test_load = load_ca_model(CAModel, \"vanilla_ca\")"
   ]
  },
  {
   "cell_type": "code",
   "execution_count": 18,
   "metadata": {},
   "outputs": [
    {
     "data": {
      "text/plain": [
       "-1"
      ]
     },
     "execution_count": 18,
     "metadata": {},
     "output_type": "execute_result"
    }
   ],
   "source": [
    "torch.cuda.current_device()\n",
    "seed.get_device()"
   ]
  },
  {
   "cell_type": "code",
   "execution_count": 47,
   "metadata": {},
   "outputs": [
    {
     "name": "stdout",
     "output_type": "stream",
     "text": [
      "torch.Size([72, 72, 16])\n",
      "torch.Size([8, 72, 72, 16])\n",
      "torch.float32 torch.float32\n",
      "tensor(0.) tensor(1.) tensor(0.) tensor(1.)\n"
     ]
    }
   ],
   "source": [
    "x0 = torch.repeat_interleave(seed[None, ...], BATCH_SIZE, dim=0)\n",
    "print(seed.shape)\n",
    "print(x0.shape)\n",
    "print(x0.dtype, seed.dtype)\n",
    "print(x0.min(), x0.max(), seed.min(), seed.max())"
   ]
  },
  {
   "cell_type": "code",
   "execution_count": 116,
   "metadata": {
    "tags": []
   },
   "outputs": [
    {
     "name": "stderr",
     "output_type": "stream",
     "text": [
      "100%|██████████████████████████████████████████████████████████████████████████████████████████████████████████| 85/85 [00:00<00:00, 631.79it/s]\n"
     ]
    },
    {
     "data": {
      "image/png": "[encoded data removed]",
      "text/plain": [
       "<Figure size 640x480 with 2 Axes>"
      ]
     },
     "metadata": {},
     "output_type": "display_data"
    }
   ],
   "source": [
    "x = simulate_model(test_load, seed.unsqueeze(0), 85, device=device)"
   ]
  },
  {
   "cell_type": "code",
   "execution_count": 106,
   "metadata": {},
   "outputs": [
    {
     "data": {
      "text/plain": [
       "torch.Size([72, 72, 16])"
      ]
     },
     "execution_count": 106,
     "metadata": {},
     "output_type": "execute_result"
    }
   ],
   "source": [
    "seed.shape"
   ]
  },
  {
   "cell_type": "code",
   "execution_count": 108,
   "metadata": {},
   "outputs": [
    {
     "data": {
      "image/png": "[encoded data removed]",
      "text/plain": [
       "<IPython.core.display.Image object>"
      ]
     },
     "metadata": {},
     "output_type": "display_data"
    }
   ],
   "source": [
    "# plt.imshow(x_norm[0, ..., :4])\n",
    "imshow(clip_tensor(x0)[0, ..., :4])"
   ]
  },
  {
   "cell_type": "code",
   "execution_count": 301,
   "metadata": {},
   "outputs": [],
   "source": [
    "class SamplePool:\n",
    "  def __init__(self, *, _parent=None, _parent_idx=None, **slots):\n",
    "    self._parent = _parent\n",
    "    self._parent_idx = _parent_idx\n",
    "    self._slot_names = slots.keys()\n",
    "    # print(f\"slot names: {self._slot_names}\")\n",
    "    # print(f\"slot values: {list(slots.values())[0].shape}\")\n",
    "    # print(f\"slot items: {slots.items()}\")\n",
    "    self._size = None\n",
    "    for k, v in slots.items():\n",
    "      if self._size is None:\n",
    "        self._size = len(v)\n",
    "      assert self._size == len(v)\n",
    "      # setattr(self, k, np.asarray(v))\n",
    "      setattr(self, k, v)        \n",
    "\n",
    "  def sample(self, n):\n",
    "    idx = np.random.choice(self._size, n, False)\n",
    "    batch = {k: getattr(self, k)[idx] for k in self._slot_names}\n",
    "    batch = SamplePool(**batch, _parent=self, _parent_idx=idx)\n",
    "    return batch\n",
    "\n",
    "  def commit(self):\n",
    "    for k in self._slot_names:\n",
    "      getattr(self._parent, k)[self._parent_idx] = getattr(self, k)"
   ]
  },
  {
   "cell_type": "code",
   "execution_count": 338,
   "metadata": {
    "id": "8KBv8QUMN2Wh",
    "tags": []
   },
   "outputs": [],
   "source": [
    "# Training Sequence\n",
    "\n",
    "class Train:\n",
    "  def __init__(self, ca_model, seed, target, lr=2e-3):\n",
    "    \"\"\"Initialize training object with model to train, seed and target\n",
    "    \n",
    "    :param ca_model: PyTorch model class object (instantiated)\n",
    "    :param seed: PyTorch tensor of shape (H, W, C), initial seed to start training\n",
    "    :param target: PyTorch tensor of shape (H, W, C), target image to learn\n",
    "    \"\"\"\n",
    "    self.ca = ca_model\n",
    "    self.seed = seed\n",
    "    # Augment target tensor with batch dimension\n",
    "    self.target = torch.repeat_interleave(target[None, ...], BATCH_SIZE, dim=0)\n",
    "    self.lr = lr\n",
    "    \n",
    "    # Initialize optimizer with lr scheduler\n",
    "    self.optim = torch.optim.Adam(self.ca.parameters(), lr=self.lr)\n",
    "    self.scheduler = torch.optim.lr_scheduler.StepLR(self.optim, step_size=2000, gamma=0.1)    \n",
    "    \n",
    "    # Use library MSELoss\n",
    "    self.loss_f = nn.MSELoss()\n",
    "    \n",
    "    # Pool of training samples for \"persistent\" training mode\n",
    "    self.pool = SamplePool(x=np.repeat(self.seed.detach().cpu()[None, ...], POOL_SIZE, 0))\n",
    "\n",
    "    # Log the training progress\n",
    "    self.loss_log = []\n",
    "\n",
    "  def train(self, n_steps=1001):\n",
    "    \"\"\"Train the model stored in `self.ca` for `n_steps` training steps\n",
    "\n",
    "    :param n_steps: int, Number of training steps\n",
    "    :return: list, loss history \n",
    "    \"\"\"\n",
    "    for i in range(n_steps):\n",
    "\n",
    "      # Very similar to original TF implementation\n",
    "      if USE_PATTERN_POOL:\n",
    "        batch = self.pool.sample(BATCH_SIZE)\n",
    "        x0 = batch.x.to(device)\n",
    "        \n",
    "        loss_rank = self._loss_f(x0, self.target).argsort(descending=True)\n",
    "        # print(list(loss_rank))\n",
    "        # print(list(loss_rank.detach().cpu().numpy()))\n",
    "        x0 = x0[list(loss_rank.detach().cpu().numpy())]\n",
    "        x0[:1] = seed # to prevent catastrophic forgetting\n",
    "      else:\n",
    "        x0 = torch.repeat_interleave(self.seed[None, ...], BATCH_SIZE, 0)\n",
    "    \n",
    "      # Run through a single training step of the model\n",
    "      x, loss = self._train_step(x0)\n",
    "      self.loss_log.append(loss)\n",
    "      # print(f'loss log is {self.loss_log}')\n",
    "    \n",
    "      # Update pool\n",
    "      if USE_PATTERN_POOL:\n",
    "        batch.x[:] = x\n",
    "        batch.commit()\n",
    "\n",
    "      # Printing\n",
    "      if i % 100 == 0:\n",
    "        clear_output()\n",
    "\n",
    "        # Visualize batch\n",
    "        visualize_batch(x0.detach().cpu(), x.detach().cpu(), i)\n",
    "        \n",
    "        # Plot loss\n",
    "        plot_loss(self.loss_log)\n",
    "        \n",
    "        # Export model\n",
    "        # TODO\n",
    "\n",
    "      print('\\r step: %d, log10(loss): %.3f'%(len(self.loss_log), np.log10(loss)), end='')\n",
    "\n",
    "    return self.loss_log\n",
    "    \n",
    "  def _train_step(self, x):\n",
    "    \"\"\"Perform the update step some random number of times\"\"\"\n",
    "    iter_n = np.random.randint(64, 97, dtype=np.int32)\n",
    "    # Clear previous gradients accumulated on parameters\n",
    "    self.optim.zero_grad()\n",
    "    for _ in range(iter_n):\n",
    "      # Forward pass of model\n",
    "      x = self.ca(x)\n",
    "\n",
    "    # Compute loss\n",
    "    # loss = self.loss_f(to_rgba(x), self.target)\n",
    "    loss = self._loss_f(x, self.target).mean()\n",
    "\n",
    "    # Compute gradients\n",
    "    loss.backward()\n",
    "    \n",
    "    # Apply L2 normalization to parameter gradients as per original paper\n",
    "    for p in self.ca.parameters():\n",
    "      if p.grad is not None:\n",
    "        p.grad /= p.grad.norm() + 1e-8 \n",
    "        \n",
    "    # Update parameters\n",
    "    self.optim.step()\n",
    "    \n",
    "    # Update learning rate step\n",
    "    self.scheduler.step()\n",
    "\n",
    "    return x, loss.item()\n",
    "\n",
    "  def _loss_f(self, output, target):\n",
    "    return torch.square(to_rgba(output) - target).mean(dim=(-2, -3, -1))\n"
   ]
  },
  {
   "cell_type": "code",
   "execution_count": 343,
   "metadata": {},
   "outputs": [],
   "source": [
    "USE_PATTERN_POOL=True"
   ]
  },
  {
   "cell_type": "code",
   "execution_count": 344,
   "metadata": {},
   "outputs": [
    {
     "name": "stdout",
     "output_type": "stream",
     "text": [
      "[tensor(7, device='cuda:3'), tensor(6, device='cuda:3'), tensor(4, device='cuda:3'), tensor(5, device='cuda:3'), tensor(1, device='cuda:3'), tensor(0, device='cuda:3'), tensor(2, device='cuda:3'), tensor(3, device='cuda:3')]\n",
      "[7, 6, 4, 5, 1, 0, 2, 3]\n"
     ]
    },
    {
     "ename": "OutOfMemoryError",
     "evalue": "CUDA out of memory. Tried to allocate 22.00 MiB (GPU 3; 10.92 GiB total capacity; 279.26 MiB already allocated; 3.81 MiB free; 310.00 MiB reserved in total by PyTorch) If reserved memory is >> allocated memory try setting max_split_size_mb to avoid fragmentation.  See documentation for Memory Management and PYTORCH_CUDA_ALLOC_CONF",
     "output_type": "error",
     "traceback": [
      "\u001b[0;31m---------------------------------------------------------------------------\u001b[0m",
      "\u001b[0;31mOutOfMemoryError\u001b[0m                          Traceback (most recent call last)",
      "\u001b[0;32m<timed exec>\u001b[0m in \u001b[0;36m<module>\u001b[0;34m\u001b[0m\n",
      "\u001b[0;32m/tmp/ipykernel_366308/3439375674.py\u001b[0m in \u001b[0;36mtrain\u001b[0;34m(self, n_steps)\u001b[0m\n\u001b[1;32m     50\u001b[0m \u001b[0;34m\u001b[0m\u001b[0m\n\u001b[1;32m     51\u001b[0m       \u001b[0;31m# Run through a single training step of the model\u001b[0m\u001b[0;34m\u001b[0m\u001b[0;34m\u001b[0m\u001b[0m\n\u001b[0;32m---> 52\u001b[0;31m       \u001b[0mx\u001b[0m\u001b[0;34m,\u001b[0m \u001b[0mloss\u001b[0m \u001b[0;34m=\u001b[0m \u001b[0mself\u001b[0m\u001b[0;34m.\u001b[0m\u001b[0m_train_step\u001b[0m\u001b[0;34m(\u001b[0m\u001b[0mx0\u001b[0m\u001b[0;34m)\u001b[0m\u001b[0;34m\u001b[0m\u001b[0;34m\u001b[0m\u001b[0m\n\u001b[0m\u001b[1;32m     53\u001b[0m       \u001b[0mself\u001b[0m\u001b[0;34m.\u001b[0m\u001b[0mloss_log\u001b[0m\u001b[0;34m.\u001b[0m\u001b[0mappend\u001b[0m\u001b[0;34m(\u001b[0m\u001b[0mloss\u001b[0m\u001b[0;34m)\u001b[0m\u001b[0;34m\u001b[0m\u001b[0;34m\u001b[0m\u001b[0m\n\u001b[1;32m     54\u001b[0m       \u001b[0;31m# print(f'loss log is {self.loss_log}')\u001b[0m\u001b[0;34m\u001b[0m\u001b[0;34m\u001b[0m\u001b[0m\n",
      "\u001b[0;32m/tmp/ipykernel_366308/3439375674.py\u001b[0m in \u001b[0;36m_train_step\u001b[0;34m(self, x)\u001b[0m\n\u001b[1;32m     83\u001b[0m     \u001b[0;32mfor\u001b[0m \u001b[0m_\u001b[0m \u001b[0;32min\u001b[0m \u001b[0mrange\u001b[0m\u001b[0;34m(\u001b[0m\u001b[0miter_n\u001b[0m\u001b[0;34m)\u001b[0m\u001b[0;34m:\u001b[0m\u001b[0;34m\u001b[0m\u001b[0;34m\u001b[0m\u001b[0m\n\u001b[1;32m     84\u001b[0m       \u001b[0;31m# Forward pass of model\u001b[0m\u001b[0;34m\u001b[0m\u001b[0;34m\u001b[0m\u001b[0m\n\u001b[0;32m---> 85\u001b[0;31m       \u001b[0mx\u001b[0m \u001b[0;34m=\u001b[0m \u001b[0mself\u001b[0m\u001b[0;34m.\u001b[0m\u001b[0mca\u001b[0m\u001b[0;34m(\u001b[0m\u001b[0mx\u001b[0m\u001b[0;34m)\u001b[0m\u001b[0;34m\u001b[0m\u001b[0;34m\u001b[0m\u001b[0m\n\u001b[0m\u001b[1;32m     86\u001b[0m \u001b[0;34m\u001b[0m\u001b[0m\n\u001b[1;32m     87\u001b[0m     \u001b[0;31m# Compute loss\u001b[0m\u001b[0;34m\u001b[0m\u001b[0;34m\u001b[0m\u001b[0m\n",
      "\u001b[0;32m~/anaconda3/envs/caproject/lib/python3.9/site-packages/torch/nn/modules/module.py\u001b[0m in \u001b[0;36m_call_impl\u001b[0;34m(self, *input, **kwargs)\u001b[0m\n\u001b[1;32m   1192\u001b[0m         if not (self._backward_hooks or self._forward_hooks or self._forward_pre_hooks or _global_backward_hooks\n\u001b[1;32m   1193\u001b[0m                 or _global_forward_hooks or _global_forward_pre_hooks):\n\u001b[0;32m-> 1194\u001b[0;31m             \u001b[0;32mreturn\u001b[0m \u001b[0mforward_call\u001b[0m\u001b[0;34m(\u001b[0m\u001b[0;34m*\u001b[0m\u001b[0minput\u001b[0m\u001b[0;34m,\u001b[0m \u001b[0;34m**\u001b[0m\u001b[0mkwargs\u001b[0m\u001b[0;34m)\u001b[0m\u001b[0;34m\u001b[0m\u001b[0;34m\u001b[0m\u001b[0m\n\u001b[0m\u001b[1;32m   1195\u001b[0m         \u001b[0;31m# Do not call functions when jit is used\u001b[0m\u001b[0;34m\u001b[0m\u001b[0;34m\u001b[0m\u001b[0m\n\u001b[1;32m   1196\u001b[0m         \u001b[0mfull_backward_hooks\u001b[0m\u001b[0;34m,\u001b[0m \u001b[0mnon_full_backward_hooks\u001b[0m \u001b[0;34m=\u001b[0m \u001b[0;34m[\u001b[0m\u001b[0;34m]\u001b[0m\u001b[0;34m,\u001b[0m \u001b[0;34m[\u001b[0m\u001b[0;34m]\u001b[0m\u001b[0;34m\u001b[0m\u001b[0;34m\u001b[0m\u001b[0m\n",
      "\u001b[0;32m/tmp/ipykernel_366308/3910255750.py\u001b[0m in \u001b[0;36mforward\u001b[0;34m(self, x, fire_rate, angle, step_size)\u001b[0m\n\u001b[1;32m     42\u001b[0m \u001b[0;34m\u001b[0m\u001b[0m\n\u001b[1;32m     43\u001b[0m     \u001b[0my\u001b[0m \u001b[0;34m=\u001b[0m \u001b[0mself\u001b[0m\u001b[0;34m.\u001b[0m\u001b[0mperceive\u001b[0m\u001b[0;34m(\u001b[0m\u001b[0mx\u001b[0m\u001b[0;34m,\u001b[0m \u001b[0mangle\u001b[0m\u001b[0;34m)\u001b[0m \u001b[0;31m# y should be on device\u001b[0m\u001b[0;34m\u001b[0m\u001b[0;34m\u001b[0m\u001b[0m\n\u001b[0;32m---> 44\u001b[0;31m     \u001b[0mdx\u001b[0m \u001b[0;34m=\u001b[0m \u001b[0mself\u001b[0m\u001b[0;34m.\u001b[0m\u001b[0mdmodel\u001b[0m\u001b[0;34m(\u001b[0m\u001b[0my\u001b[0m\u001b[0;34m)\u001b[0m\u001b[0;34m*\u001b[0m\u001b[0mstep_size\u001b[0m\u001b[0;34m\u001b[0m\u001b[0;34m\u001b[0m\u001b[0m\n\u001b[0m\u001b[1;32m     45\u001b[0m     \u001b[0;32mif\u001b[0m \u001b[0mfire_rate\u001b[0m \u001b[0;32mis\u001b[0m \u001b[0;32mNone\u001b[0m\u001b[0;34m:\u001b[0m\u001b[0;34m\u001b[0m\u001b[0;34m\u001b[0m\u001b[0m\n\u001b[1;32m     46\u001b[0m       \u001b[0mfire_rate\u001b[0m \u001b[0;34m=\u001b[0m \u001b[0mself\u001b[0m\u001b[0;34m.\u001b[0m\u001b[0mfire_rate\u001b[0m\u001b[0;34m\u001b[0m\u001b[0;34m\u001b[0m\u001b[0m\n",
      "\u001b[0;32m~/anaconda3/envs/caproject/lib/python3.9/site-packages/torch/nn/modules/module.py\u001b[0m in \u001b[0;36m_call_impl\u001b[0;34m(self, *input, **kwargs)\u001b[0m\n\u001b[1;32m   1192\u001b[0m         if not (self._backward_hooks or self._forward_hooks or self._forward_pre_hooks or _global_backward_hooks\n\u001b[1;32m   1193\u001b[0m                 or _global_forward_hooks or _global_forward_pre_hooks):\n\u001b[0;32m-> 1194\u001b[0;31m             \u001b[0;32mreturn\u001b[0m \u001b[0mforward_call\u001b[0m\u001b[0;34m(\u001b[0m\u001b[0;34m*\u001b[0m\u001b[0minput\u001b[0m\u001b[0;34m,\u001b[0m \u001b[0;34m**\u001b[0m\u001b[0mkwargs\u001b[0m\u001b[0;34m)\u001b[0m\u001b[0;34m\u001b[0m\u001b[0;34m\u001b[0m\u001b[0m\n\u001b[0m\u001b[1;32m   1195\u001b[0m         \u001b[0;31m# Do not call functions when jit is used\u001b[0m\u001b[0;34m\u001b[0m\u001b[0;34m\u001b[0m\u001b[0m\n\u001b[1;32m   1196\u001b[0m         \u001b[0mfull_backward_hooks\u001b[0m\u001b[0;34m,\u001b[0m \u001b[0mnon_full_backward_hooks\u001b[0m \u001b[0;34m=\u001b[0m \u001b[0;34m[\u001b[0m\u001b[0;34m]\u001b[0m\u001b[0;34m,\u001b[0m \u001b[0;34m[\u001b[0m\u001b[0;34m]\u001b[0m\u001b[0;34m\u001b[0m\u001b[0;34m\u001b[0m\u001b[0m\n",
      "\u001b[0;32m~/anaconda3/envs/caproject/lib/python3.9/site-packages/torch/nn/modules/container.py\u001b[0m in \u001b[0;36mforward\u001b[0;34m(self, input)\u001b[0m\n\u001b[1;32m    202\u001b[0m     \u001b[0;32mdef\u001b[0m \u001b[0mforward\u001b[0m\u001b[0;34m(\u001b[0m\u001b[0mself\u001b[0m\u001b[0;34m,\u001b[0m \u001b[0minput\u001b[0m\u001b[0;34m)\u001b[0m\u001b[0;34m:\u001b[0m\u001b[0;34m\u001b[0m\u001b[0;34m\u001b[0m\u001b[0m\n\u001b[1;32m    203\u001b[0m         \u001b[0;32mfor\u001b[0m \u001b[0mmodule\u001b[0m \u001b[0;32min\u001b[0m \u001b[0mself\u001b[0m\u001b[0;34m:\u001b[0m\u001b[0;34m\u001b[0m\u001b[0;34m\u001b[0m\u001b[0m\n\u001b[0;32m--> 204\u001b[0;31m             \u001b[0minput\u001b[0m \u001b[0;34m=\u001b[0m \u001b[0mmodule\u001b[0m\u001b[0;34m(\u001b[0m\u001b[0minput\u001b[0m\u001b[0;34m)\u001b[0m\u001b[0;34m\u001b[0m\u001b[0;34m\u001b[0m\u001b[0m\n\u001b[0m\u001b[1;32m    205\u001b[0m         \u001b[0;32mreturn\u001b[0m \u001b[0minput\u001b[0m\u001b[0;34m\u001b[0m\u001b[0;34m\u001b[0m\u001b[0m\n\u001b[1;32m    206\u001b[0m \u001b[0;34m\u001b[0m\u001b[0m\n",
      "\u001b[0;32m~/anaconda3/envs/caproject/lib/python3.9/site-packages/torch/nn/modules/module.py\u001b[0m in \u001b[0;36m_call_impl\u001b[0;34m(self, *input, **kwargs)\u001b[0m\n\u001b[1;32m   1192\u001b[0m         if not (self._backward_hooks or self._forward_hooks or self._forward_pre_hooks or _global_backward_hooks\n\u001b[1;32m   1193\u001b[0m                 or _global_forward_hooks or _global_forward_pre_hooks):\n\u001b[0;32m-> 1194\u001b[0;31m             \u001b[0;32mreturn\u001b[0m \u001b[0mforward_call\u001b[0m\u001b[0;34m(\u001b[0m\u001b[0;34m*\u001b[0m\u001b[0minput\u001b[0m\u001b[0;34m,\u001b[0m \u001b[0;34m**\u001b[0m\u001b[0mkwargs\u001b[0m\u001b[0;34m)\u001b[0m\u001b[0;34m\u001b[0m\u001b[0;34m\u001b[0m\u001b[0m\n\u001b[0m\u001b[1;32m   1195\u001b[0m         \u001b[0;31m# Do not call functions when jit is used\u001b[0m\u001b[0;34m\u001b[0m\u001b[0;34m\u001b[0m\u001b[0m\n\u001b[1;32m   1196\u001b[0m         \u001b[0mfull_backward_hooks\u001b[0m\u001b[0;34m,\u001b[0m \u001b[0mnon_full_backward_hooks\u001b[0m \u001b[0;34m=\u001b[0m \u001b[0;34m[\u001b[0m\u001b[0;34m]\u001b[0m\u001b[0;34m,\u001b[0m \u001b[0;34m[\u001b[0m\u001b[0;34m]\u001b[0m\u001b[0;34m\u001b[0m\u001b[0;34m\u001b[0m\u001b[0m\n",
      "\u001b[0;32m~/anaconda3/envs/caproject/lib/python3.9/site-packages/torch/nn/modules/activation.py\u001b[0m in \u001b[0;36mforward\u001b[0;34m(self, input)\u001b[0m\n\u001b[1;32m    100\u001b[0m \u001b[0;34m\u001b[0m\u001b[0m\n\u001b[1;32m    101\u001b[0m     \u001b[0;32mdef\u001b[0m \u001b[0mforward\u001b[0m\u001b[0;34m(\u001b[0m\u001b[0mself\u001b[0m\u001b[0;34m,\u001b[0m \u001b[0minput\u001b[0m\u001b[0;34m:\u001b[0m \u001b[0mTensor\u001b[0m\u001b[0;34m)\u001b[0m \u001b[0;34m->\u001b[0m \u001b[0mTensor\u001b[0m\u001b[0;34m:\u001b[0m\u001b[0;34m\u001b[0m\u001b[0;34m\u001b[0m\u001b[0m\n\u001b[0;32m--> 102\u001b[0;31m         \u001b[0;32mreturn\u001b[0m \u001b[0mF\u001b[0m\u001b[0;34m.\u001b[0m\u001b[0mrelu\u001b[0m\u001b[0;34m(\u001b[0m\u001b[0minput\u001b[0m\u001b[0;34m,\u001b[0m \u001b[0minplace\u001b[0m\u001b[0;34m=\u001b[0m\u001b[0mself\u001b[0m\u001b[0;34m.\u001b[0m\u001b[0minplace\u001b[0m\u001b[0;34m)\u001b[0m\u001b[0;34m\u001b[0m\u001b[0;34m\u001b[0m\u001b[0m\n\u001b[0m\u001b[1;32m    103\u001b[0m \u001b[0;34m\u001b[0m\u001b[0m\n\u001b[1;32m    104\u001b[0m     \u001b[0;32mdef\u001b[0m \u001b[0mextra_repr\u001b[0m\u001b[0;34m(\u001b[0m\u001b[0mself\u001b[0m\u001b[0;34m)\u001b[0m \u001b[0;34m->\u001b[0m \u001b[0mstr\u001b[0m\u001b[0;34m:\u001b[0m\u001b[0;34m\u001b[0m\u001b[0;34m\u001b[0m\u001b[0m\n",
      "\u001b[0;32m~/anaconda3/envs/caproject/lib/python3.9/site-packages/torch/nn/functional.py\u001b[0m in \u001b[0;36mrelu\u001b[0;34m(input, inplace)\u001b[0m\n\u001b[1;32m   1455\u001b[0m         \u001b[0mresult\u001b[0m \u001b[0;34m=\u001b[0m \u001b[0mtorch\u001b[0m\u001b[0;34m.\u001b[0m\u001b[0mrelu_\u001b[0m\u001b[0;34m(\u001b[0m\u001b[0minput\u001b[0m\u001b[0;34m)\u001b[0m\u001b[0;34m\u001b[0m\u001b[0;34m\u001b[0m\u001b[0m\n\u001b[1;32m   1456\u001b[0m     \u001b[0;32melse\u001b[0m\u001b[0;34m:\u001b[0m\u001b[0;34m\u001b[0m\u001b[0;34m\u001b[0m\u001b[0m\n\u001b[0;32m-> 1457\u001b[0;31m         \u001b[0mresult\u001b[0m \u001b[0;34m=\u001b[0m \u001b[0mtorch\u001b[0m\u001b[0;34m.\u001b[0m\u001b[0mrelu\u001b[0m\u001b[0;34m(\u001b[0m\u001b[0minput\u001b[0m\u001b[0;34m)\u001b[0m\u001b[0;34m\u001b[0m\u001b[0;34m\u001b[0m\u001b[0m\n\u001b[0m\u001b[1;32m   1458\u001b[0m     \u001b[0;32mreturn\u001b[0m \u001b[0mresult\u001b[0m\u001b[0;34m\u001b[0m\u001b[0;34m\u001b[0m\u001b[0m\n\u001b[1;32m   1459\u001b[0m \u001b[0;34m\u001b[0m\u001b[0m\n",
      "\u001b[0;31mOutOfMemoryError\u001b[0m: CUDA out of memory. Tried to allocate 22.00 MiB (GPU 3; 10.92 GiB total capacity; 279.26 MiB already allocated; 3.81 MiB free; 310.00 MiB reserved in total by PyTorch) If reserved memory is >> allocated memory try setting max_split_size_mb to avoid fragmentation.  See documentation for Memory Management and PYTORCH_CUDA_ALLOC_CONF"
     ]
    }
   ],
   "source": [
    "%%time\n",
    "# original torch conv layer initialization WITH weight decay\n",
    "\n",
    "ca = CAModel().to(device)\n",
    "train = Train(ca, seed.to(device), pad_target.to(device))\n",
    "\n",
    "loss_log = train.train(n_steps=4001)"
   ]
  },
  {
   "cell_type": "code",
   "execution_count": null,
   "metadata": {},
   "outputs": [],
   "source": []
  },
  {
   "cell_type": "code",
   "execution_count": 156,
   "metadata": {},
   "outputs": [
    {
     "name": "stderr",
     "output_type": "stream",
     "text": [
      "100%|███████████████████████████████████████████████████████████████████████| 80/80 [00:00<00:00, 495.85it/s]"
     ]
    },
    {
     "name": "stdout",
     "output_type": "stream",
     "text": [
      "batch (before/after):\n"
     ]
    },
    {
     "name": "stderr",
     "output_type": "stream",
     "text": [
      "\n"
     ]
    },
    {
     "data": {
      "image/jpeg": "[encoded data removed]",
      "text/plain": [
       "<IPython.core.display.Image object>"
      ]
     },
     "metadata": {},
     "output_type": "display_data"
    }
   ],
   "source": [
    "simulate_model(test_load, seed.unsqueeze(0), 80, device=device)"
   ]
  },
  {
   "cell_type": "code",
   "execution_count": 283,
   "metadata": {},
   "outputs": [
    {
     "name": "stdout",
     "output_type": "stream",
     "text": [
      "torch.Size([72, 72, 4])\n",
      "torch.Size([8, 72, 72, 4])\n",
      "torch.Size([8, 72, 72, 4])\n",
      "tensor(1.0531) tensor(1.0620)\n",
      "tensor([1.0804, 1.0659, 1.0561, 1.0623, 1.0600, 1.0561, 1.0622, 1.0531])\n",
      "tensor(1.0620)\n",
      "[7 2 5 4 6 3 1 0]\n",
      "[0 1 3 6 4 5 2 7] <class 'numpy.ndarray'>\n",
      "<class 'torch.Tensor'> <class 'numpy.ndarray'>\n",
      "(8, 72, 72, 16)\n",
      "torch.Size([8, 72, 72, 16])\n",
      "torch.Size([1024, 72, 72, 16])\n",
      "slot names: dict_keys(['x'])\n",
      "slot values: torch.Size([1024, 72, 72, 16])\n",
      "x\n",
      "(1024, 72, 72, 16) <class 'numpy.ndarray'>\n",
      "slot names: dict_keys(['x'])\n",
      "slot values: (8, 72, 72, 16)\n",
      "\n",
      "x\n",
      "(1024, 72, 72, 16) <class 'numpy.ndarray'>\n",
      "(8, 72, 72, 16) <class 'numpy.ndarray'>\n",
      "torch.Size([8, 72, 72, 16]) <class 'torch.Tensor'>\n"
     ]
    },
    {
     "data": {
      "text/plain": [
       "True"
      ]
     },
     "execution_count": 283,
     "metadata": {},
     "output_type": "execute_result"
    }
   ],
   "source": [
    "print(pad_target.shape)\n",
    "test_out = torch.repeat_interleave(pad_target[None, ...], BATCH_SIZE, dim=0)\n",
    "print(test_out.shape)\n",
    "test_in = torch.randn(x0.shape)\n",
    "\n",
    "##########################################\n",
    "\n",
    "print(to_rgba(test_in).shape)\n",
    "loss = nn.MSELoss()\n",
    "loss1 = loss(to_rgba(test_in)[-1, ...], pad_target)\n",
    "loss2 = loss(to_rgba(test_in), test_out)\n",
    "\n",
    "print(loss1, loss2)\n",
    "\n",
    "##########################################\n",
    "\n",
    "batched_loss = torch.square(to_rgba(test_in) - test_out).mean(dim=(-2, -3, -1))\n",
    "print(batched_loss)\n",
    "print(batched_loss.mean())\n",
    "print(batched_loss.numpy().argsort())\n",
    "loss_rank = batched_loss.numpy().argsort()[::-1]\n",
    "print(loss_rank, type(loss_rank))\n",
    "\n",
    "print(type(x0), type(batch.x))\n",
    "x0_test = batch.x[loss_rank]\n",
    "print(x0_test.shape)\n",
    "\n",
    "x0_test2 = x0[list(loss_rank)]\n",
    "print(x0_test2.shape)\n",
    "\n",
    "########################################\n",
    "\n",
    "x=np.repeat(seed[None, ...], POOL_SIZE, 0)\n",
    "print(x.shape)\n",
    "\n",
    "#########################################\n",
    "\n",
    "pool = SamplePool(x=np.repeat(seed[None, ...], POOL_SIZE, 0))\n",
    "for k in pool._slot_names:\n",
    "    print(k)\n",
    "    v = getattr(pool, k)\n",
    "    print(v.shape, type(v))\n",
    "getattr(pool, '_parent')\n",
    "batch = pool.sample(BATCH_SIZE)\n",
    "\n",
    "print()\n",
    "for k in pool._slot_names:\n",
    "    print(k)\n",
    "    v = getattr(pool, k)\n",
    "    print(v.shape, type(v))\n",
    "    \n",
    "################################################\n",
    "\n",
    "print(batch.x.shape, type(batch.x))\n",
    "print(x0.shape, type(x0))\n",
    "np.allclose(batch.x, x0)"
   ]
  },
  {
   "cell_type": "code",
   "execution_count": null,
   "metadata": {},
   "outputs": [],
   "source": []
  }
 ],
 "metadata": {
  "accelerator": "GPU",
  "colab": {
   "provenance": []
  },
  "gpuClass": "standard",
  "kernelspec": {
   "display_name": "Python 3 (ipykernel)",
   "language": "python",
   "name": "python3"
  },
  "language_info": {
   "codemirror_mode": {
    "name": "ipython",
    "version": 3
   },
   "file_extension": ".py",
   "mimetype": "text/x-python",
   "name": "python",
   "nbconvert_exporter": "python",
   "pygments_lexer": "ipython3",
   "version": "3.9.15"
  }
 },
 "nbformat": 4,
 "nbformat_minor": 4
}
