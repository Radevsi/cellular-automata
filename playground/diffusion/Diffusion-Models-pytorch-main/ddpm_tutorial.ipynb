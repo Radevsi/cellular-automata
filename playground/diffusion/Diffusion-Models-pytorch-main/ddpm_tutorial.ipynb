{
  "nbformat": 4,
  "nbformat_minor": 0,
  "metadata": {
    "colab": {
      "provenance": []
    },
    "kernelspec": {
      "name": "python3",
      "display_name": "Python 3"
    },
    "language_info": {
      "name": "python"
    }
  },
  "cells": [
    {
      "cell_type": "code",
      "execution_count": 38,
      "metadata": {
        "colab": {
          "base_uri": "https://localhost:8080/"
        },
        "id": "HfO4cd6pS0dG",
        "outputId": "3648998d-8e3c-423a-bb98-ff7b5b89e457"
      },
      "outputs": [
        {
          "output_type": "stream",
          "name": "stdout",
          "text": [
            "device is cpu\n"
          ]
        }
      ],
      "source": [
        "import os\n",
        "import torch\n",
        "import torch.nn as nn\n",
        "import torch.nn.functional as F\n",
        "from matplotlib import pyplot as plt\n",
        "from tqdm import tqdm\n",
        "from torch import optim\n",
        "\n",
        "import logging\n",
        "from torch.utils.tensorboard import SummaryWriter\n",
        "\n",
        "device_id = 0\n",
        "device = torch.device(f'cuda:{device_id}' if torch.cuda.is_available() else 'cpu')\n",
        "print(f'device is {device}')"
      ]
    },
    {
      "cell_type": "code",
      "source": [
        "logging.basicConfig(format=\"%(asctime)s - %(levelname)s: %(message)s\", level=logging.INFO, datefmt=\"%I:%M:%S\")"
      ],
      "metadata": {
        "id": "a9FgdsIlS_hN"
      },
      "execution_count": 4,
      "outputs": []
    },
    {
      "cell_type": "markdown",
      "source": [
        "## Models"
      ],
      "metadata": {
        "id": "iEsLKvrPnUvs"
      }
    },
    {
      "cell_type": "code",
      "source": [
        "# Helper blocks\n",
        "\n",
        "class DoubleConv(nn.Module):\n",
        "  def __init__(self, in_channels, out_channels, mid_channels=None, residual=False):\n",
        "    \"\"\"Normal convolution block consisting of 2d convolution, group norm, gelu() activation\n",
        "      We can also add a residual connection if desired.\n",
        "    \"\"\"\n",
        "    super().__init__()\n",
        "    self.residual = residual\n",
        "    if not mid_channels:\n",
        "      mid_channels = out_channels\n",
        "    self.double_conv = nn.Sequential(\n",
        "        nn.Conv2d(in_channels, mid_channels, kernel_size=3, padding=1, bias=False),\n",
        "        nn.GroupNorm(1, mid_channels),\n",
        "        nn.GELU(),\n",
        "        nn.Conv2d(mid_channels, out_channels, kernel_size=3, padding=1, bias=False),\n",
        "        nn.GroupNorm(1, out_channels),\n",
        "    )\n",
        "\n",
        "  def forward(self, x):\n",
        "    if self.residual:\n",
        "      return F.gelu(x + self.double_conv(x))\n",
        "    else:\n",
        "      return self.double_conv(x)\n",
        "\n",
        "class Down(nn.Module)\n",
        "  def __init__(self, in_channels, out_channels, emb_dim=256):\n",
        "    \"\"\"Reduce the size by half with max pool. \n",
        "        We encode time steps to certain dimension, and use a linear projection to bring\n",
        "        the time embedding to proper dimension.\n",
        "    \"\"\"\n",
        "    super().__init__()\n",
        "    self.maxpool_conv = nn.Sequential(\n",
        "        nn.MaxPool2d(2),\n",
        "        DoubleConv(in_channels, in_channels, residual=True),\n",
        "        DoubleConv(in_channels, out_channels),\n",
        "    )\n",
        "\n",
        "    self.emb_layer = nn.Sequential(\n",
        "        nn.SiLU(),\n",
        "        nn.Linear(\n",
        "            emb_dim, out_channels\n",
        "        ),\n",
        "    )\n",
        "\n",
        "  def forward(self, x, t):\n",
        "    x = self.maxpool_conv(x)\n",
        "    emb = self.emb_layer(t)[:, :, None, None].repeat(1, 1, x.shape[-2], x.shape[-1])\n",
        "    return x + emb \n",
        "\n",
        "class Up(nn.Module):\n",
        "  def __init__(self, in_channels, out_channels, emb_dim=256):\n",
        "    \"\"\"Use an upsample operation. Also take in skip connection from encoder,\n",
        "      after upsampling normal x, concatenate it with the skip connection and\n",
        "      feed through convolutional block, adding the time embedding again.\n",
        "    \"\"\"\n",
        "    super().__init__():    \n",
        "    \n",
        "    self.up = nn.Upsample(scale_factor=2, mode='bilinear', align_corners=True)\n",
        "    self.conv = nn.Sequential(\n",
        "        DoubleConv(in_channels, in_channels, residual=True),\n",
        "        DoubleConv(in_channels, out_channels, in_channels // 2),\n",
        "    )\n",
        "\n",
        "    self.emb_layer = nn.Sequential(\n",
        "        nn.SiLU(),\n",
        "        nn.Linear(\n",
        "            emb_dim, out_channels\n",
        "        ),\n",
        "    )\n",
        "\n",
        "  def forward(self, x, skip_x, t):\n",
        "    x = self.up(x)\n",
        "    x = torch.cat([skip_x, x], dim=1)\n",
        "    x = self.conv(x)\n",
        "    emb = self.emb_layer(t)[:, :, None, None].repeat(1, 1, x.shape[-2], x.shape[-1])\n",
        "    return x + emb\n",
        "    \n",
        "class SelfAttention(nn.Module):\n",
        "  def __init__(self, channels, size):\n",
        "    \"\"\"Regular attention block.\"\"\"\n",
        "    super(SelfAttention, self).__init__()\n",
        "    self.channels = channels\n",
        "    self.size = size\n",
        "    self.mha = nn.MultiheadAttention(channels, 4, batch_first=True)\n",
        "    self.ln = nn.LayerNorm([channels])\n",
        "    self.ff_self = nn.Sequential(\n",
        "        nn.LauerNorm([channels]),\n",
        "        nn.Linear(channels, channels),\n",
        "        nn.GELU(),\n",
        "        nn.Linear(channels, channels),\n",
        "    )\n",
        "\n",
        "  def forward(self, x):\n",
        "    \"\"\"Prelayer norm, followed by mha, then add skip connection\"\"\"\n",
        "\n",
        "    # Bring channel axis into last dimension for attention to work\n",
        "    x = x.view(-1, self.channels, self.size * self.size).swapaxes(1, 2)\n",
        "    x_ln = self.ln(x)\n",
        "    attention_value, _ = self.mha(x_ln, x_ln, x_ln)\n",
        "    attention_value = attention_value + x\n",
        "    attention_value = self.ff_self(attention_value) + attention_value\n",
        "    return attention_value.swapaxes(2, 1).view(-1, self.channels, self.size, self.size)\n"
      ],
      "metadata": {
        "id": "DrJhGbYdgENO"
      },
      "execution_count": null,
      "outputs": []
    },
    {
      "cell_type": "code",
      "source": [
        "# Define UNet\n",
        "# Has an encoder, bottleneck, and decoder\n",
        "\n",
        "class UNet(nn.Module):\n",
        "  def __init__(self, c_in=3, c_out=3, time_dim=256, device=device):\n",
        "    super().__init__()\n",
        "    self.device = device\n",
        "    self.time_dim = time_dim\n",
        "    \n",
        "    # Encoder\n",
        "    self.inc = DoubleConv(c_in, 64)\n",
        "    self.down1 = Down(64, 128)\n",
        "    self.sa1 = SelfAttention(128, 32)\n",
        "\n",
        "    self.down2 = Down(128, 256)\n",
        "    self.sa2 = SelfAttention(256, 16)\n",
        "\n",
        "    self.down3 = Down(256, 256)\n",
        "    self.sa3 = SelfAttention(256, 8)\n",
        "\n",
        "    # Bottleneck\n",
        "    self.bot1 = DoubleConv(256, 512)\n",
        "    self.bot2 = DoubleConv(512, 512)\n",
        "    self.bot3 = DoubleConv(512, 256)\n",
        "\n",
        "    # Decoder\n",
        "    self.up1 = Up(512, 128)\n",
        "    self.sa4 = SelfAttention(128, 16)\n",
        "\n",
        "    self.up2 = Up(256, 64)\n",
        "    self.sa5 = SelfAttention(64, 32)\n",
        "\n",
        "    self.up3 = Up(128, 64)\n",
        "    self.sa6 = SelfAttention(64, 64)\n",
        "\n",
        "    # Project back to output channel dimension\n",
        "    self.outc = nn.Conv2d(64, c_out, kernel_size=1)\n",
        "\n",
        "  def pos_encoding(self, t, channels):\n",
        "    \"\"\"Encode time tensor using sinusoidal embedding\"\"\"\n",
        "    inv_freq = 1.0 / (\n",
        "        10000\n",
        "        ** (torch.arange(0, channels, 2, device=self.device).float() / channels)\n",
        "    )\n",
        "    pos_enc_a = torch.sin(t.repeat(1, channels // 2) * inv_freq)\n",
        "    pos_enc_b = torch.cos(t.repeat(1, channels // 2) * inv_freq)\n",
        "    pos_enc = torch.cat([pos_enc_a, pos_enc_b], dim=-1)\n",
        "    return pos_enc\n",
        "\n",
        "  def forward(self, x, t):\n",
        "    \"\"\"Take as input the noise images and the timesteps.\n",
        "      Instead of passing these timesteps to the model directly, \n",
        "      encode them first.\n",
        "      Use sinusoidal embedding.\"\"\"\n",
        "\n",
        "    t = t.unsqueeze(-1).type(torch.float)\n",
        "    t = self.pos_encoding(t, self.time_dim)\n",
        "\n",
        "    # Encoder (downsampling)\n",
        "    x1 = self.inc1(x)\n",
        "    x2 = self.down1(x1, t)\n",
        "    x2 = self.sa1(x2)\n",
        "\n",
        "    x3 = self.down2(x2, t)\n",
        "    x3 = self.sa2(x3)\n",
        "\n",
        "    x4 = self.down3(x3, t)\n",
        "    x4 = self.sa3(x4)\n",
        "\n",
        "    # Bottleneck\n",
        "    x4 = self.bot1(x4)\n",
        "    x4 = self.bot2(x4)\n",
        "    x4 = self.bot3(x4)\n",
        "\n",
        "    # Decoder (upsampling)\n",
        "    x = self.up1(x4, x3, t)\n",
        "    x = self.sa4(x)\n",
        "\n",
        "    x = self.up2(x, x2, t)\n",
        "    x = self.sa5(x)\n",
        "\n",
        "    x = self.up3(x, x1, t)\n",
        "    x = self.sa6(x)\n",
        "\n",
        "    output = self.outc(x)\n",
        "    return output\n"
      ],
      "metadata": {
        "id": "S8vYwHzKcWPE"
      },
      "execution_count": 37,
      "outputs": []
    },
    {
      "cell_type": "code",
      "source": [
        "class Diffusion:\n",
        "  def __init__(self, noise_steps=1000, beta_start=1e-4, beta_end=0.02, img_size=64, device=device):\n",
        "    self.noise_steps = noise_steps\n",
        "    self.beta_start = beta_start\n",
        "    self.beta_end = beta_end\n",
        "    self.img_size = img_size\n",
        "    self.device = device\n",
        "\n",
        "    self.beta = self.prepate_noise_schedule().to(device)\n",
        "    self.alpha = 1. - self.beta\n",
        "    self.alpha_hat = torch.cumprod(self.alpha, dim=0)\n",
        "\n",
        "  def prepare_noise_scheduler(self):\n",
        "    return torch.linspace(self.beta_start, self.beta_end, self.noise_steps)\n",
        "\n",
        "  def noise_images(self, x, t):\n",
        "    sqrt_alpha_hat = torch.sqrt(self.alpha_hat[t])[:, None, None, None]\n",
        "    sqrt_one_minus_alpha_hat = torch.sqrt(1. - self.alpha_hat[t])[:, None, None, None]\n",
        "    eps = torch.randn_like(x) # random noise\n",
        "    return sqrt_alpha_hat * x + sqrt_one_minus_alpha_hat * eps, eps\n",
        "\n",
        "  def sample_timesteps(self, n):\n",
        "    return torch.randint(low=1, high=self.noise_steps, size=(n,))\n",
        "\n",
        "  def sample(self, model, n):\n",
        "\n",
        "    model.eval()\n",
        "    with torch.no_grad():\n",
        "\n",
        "      # Create initial images by sampling from the Normal distribution\n",
        "      x = torch.randn((n, 3, self.img_size, self.img_size)).to(self.device)\n",
        "\n",
        "      # Go through all noise steps in reverse order \n",
        "      for i in tqdm(reversed(range(1, self.noise_steps)), position=0):\n",
        "\n",
        "        # Create a tensor of length n to create the timesteps\n",
        "        t = (torch.ones(n) * i).long().to(self.device)\n",
        "        predicted_noise = model(x, t)\n",
        "        alpha = self.alpha[t][:, None, None, None]\n",
        "        alpha_hat = self.alpha_hat[t][:, None, None, None]\n",
        "        beta = self.beta[t][:, None, None, None]\n",
        "\n",
        "        # We don't want to add noise in the last iteration\n",
        "        if i > 1:\n",
        "          noise = torch.randn_like(x)\n",
        "        else:\n",
        "          noise = torch.zeros_like(x)\n",
        "\n",
        "        # Finally, alter the images with a little bit of noise according to Alg 2\n",
        "        x = 1 / torch.sqrt(alpha) * (x - ((1 - alpha) / (torch.sqrt(1 - alpha_hat))) * predicted_noise) +\\\n",
        "              torch.sqrt(beta) * noise\n",
        "\n",
        "    model.train()\n",
        "    x = (x.clamp(-1, 1) + 1) / 2\n",
        "    x = (x * 255).type(torch.uint8)\n",
        "    return x"
      ],
      "metadata": {
        "id": "QJrD-DrTTAF4"
      },
      "execution_count": 3,
      "outputs": []
    },
    {
      "cell_type": "markdown",
      "source": [
        "## Train"
      ],
      "metadata": {
        "id": "pSB9tp3MnY2w"
      }
    },
    {
      "cell_type": "code",
      "source": [
        "class Train():\n",
        "  def __init__(self, model, diffusion, dataloader, lr, run_name)\n",
        "    \"\"\"Training class\"\"\"\n",
        "    self.model = model\n",
        "    self.diffusion = diffusion\n",
        "    self.dataloader = dataloader\n",
        "    self.run_name = run_name\n",
        "\n",
        "    self.optimizer = optim.AdamW(self.model.parameters(), lr=lr)\n",
        "    self.mse = nn.MSELoss()\n",
        "\n",
        "    l = len(dataloader)\n",
        "\n",
        "  def train(self, epochs):\n",
        "    for epoch in range(epochs):\n",
        "      pbar = tqdm(self.dataloader)\n",
        "      \n",
        "      for i, (images, _) in enumerate(pbar):\n",
        "        images = images.to(device)\n",
        "        t = self.diffusion.sample_timesteps(images.shape[0]).to(device)\n",
        "        x_t, noise = self.diffusion.noise_images(images, t)\n",
        "        predicted_noise = self.model(x_t, t)\n",
        "        loss = self.mse(noise, predicted_noise)\n",
        "\n",
        "        # Backprop\n",
        "        self.optimizer.zero_grad()\n",
        "        loss.backward()\n",
        "        self.optimizer.step()\n",
        "\n",
        "        pbar.set_postfix(MSE=loss.item())\n",
        "\n",
        "      sampled_images = self.diffusion.sample(self.model, n=images.shape[0])\n",
        "      save_images(sampled_images, os.path.join(\"results\", self.run_name, f'{epoch}.jpg'))\n",
        "      torch.save(self.model.state_dict(), os.path.join(\"models\", self.run_name, f'ckpt.pt')\n",
        "\n",
        "\n"
      ],
      "metadata": {
        "id": "6avjilyAnyRU"
      },
      "execution_count": null,
      "outputs": []
    },
    {
      "cell_type": "code",
      "source": [
        "t = (torch.ones(2) * 1).long()\n",
        "print(t, t.shape)"
      ],
      "metadata": {
        "colab": {
          "base_uri": "https://localhost:8080/"
        },
        "id": "pFJF1_jTTAIh",
        "outputId": "6b947579-6dfa-49ec-80c4-82e8ef9d9683"
      },
      "execution_count": 34,
      "outputs": [
        {
          "output_type": "stream",
          "name": "stdout",
          "text": [
            "tensor([1, 1]) torch.Size([2])\n"
          ]
        }
      ]
    },
    {
      "cell_type": "code",
      "source": [
        "beta = torch.linspace(1e-4, 0.02, 1000)\n",
        "alpha = 1. - beta\n",
        "print(alpha.shape)\n",
        "alpha_hat = torch.cumprod(alpha, dim=0)\n",
        "print(alpha_hat.shape)"
      ],
      "metadata": {
        "colab": {
          "base_uri": "https://localhost:8080/"
        },
        "id": "vpgIpOgSWRYx",
        "outputId": "1a60060d-3fd4-40f0-ee24-7001c4b3eed2"
      },
      "execution_count": 35,
      "outputs": [
        {
          "output_type": "stream",
          "name": "stdout",
          "text": [
            "torch.Size([1000])\n",
            "torch.Size([1000])\n"
          ]
        }
      ]
    },
    {
      "cell_type": "code",
      "source": [
        "test1 = torch.sqrt(alpha_hat[t])[:, None, None, None]\n",
        "print(test1, test1.shape)"
      ],
      "metadata": {
        "colab": {
          "base_uri": "https://localhost:8080/"
        },
        "id": "uV_dLmknWUI2",
        "outputId": "23290972-6698-442e-bcbc-bca042157afa"
      },
      "execution_count": 36,
      "outputs": [
        {
          "output_type": "stream",
          "name": "stdout",
          "text": [
            "tensor([[[[0.9999]]],\n",
            "\n",
            "\n",
            "        [[[0.9999]]]]) torch.Size([2, 1, 1, 1])\n"
          ]
        }
      ]
    },
    {
      "cell_type": "code",
      "source": [
        "plt.plot(test)"
      ],
      "metadata": {
        "colab": {
          "base_uri": "https://localhost:8080/",
          "height": 447
        },
        "id": "lqe0XFX9WU6x",
        "outputId": "5406a0ce-7f4b-4533-e979-bf1463c9a043"
      },
      "execution_count": 14,
      "outputs": [
        {
          "output_type": "execute_result",
          "data": {
            "text/plain": [
              "[<matplotlib.lines.Line2D at 0x7f54d1a89a80>]"
            ]
          },
          "metadata": {},
          "execution_count": 14
        },
        {
          "output_type": "display_data",
          "data": {
            "text/plain": [
              "<Figure size 640x480 with 1 Axes>"
            ],
            "image/png": "[encoded data removed]"
          },
          "metadata": {}
        }
      ]
    },
    {
      "cell_type": "code",
      "source": [],
      "metadata": {
        "id": "AAhzu-LnWoaX"
      },
      "execution_count": null,
      "outputs": []
    }
  ]
}