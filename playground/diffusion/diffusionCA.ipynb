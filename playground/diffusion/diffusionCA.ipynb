{
 "cells": [
  {
   "cell_type": "code",
   "execution_count": 1,
   "id": "94867b00-363e-48a5-99be-5a1b6efea2c2",
   "metadata": {},
   "outputs": [
    {
     "name": "stdout",
     "output_type": "stream",
     "text": [
      "device is cuda:0\n"
     ]
    }
   ],
   "source": [
    "import os\n",
    "import io\n",
    "import PIL.Image, PIL.ImageDraw\n",
    "import matplotlib.pyplot as plt\n",
    "import requests\n",
    "import logging\n",
    "import numpy as np\n",
    "import torch\n",
    "import torch.nn as nn\n",
    "import torch.nn.functional as F\n",
    "from torch.utils.tensorboard import SummaryWriter\n",
    "\n",
    "from tqdm import tqdm\n",
    "\n",
    "# Notebook dependencies\n",
    "from IPython.display import clear_output, Image\n",
    "\n",
    "# Custom helpers package\n",
    "from helpers import *\n",
    "\n",
    "# For reloading the package\n",
    "import importlib\n",
    "import sys\n",
    "importlib.reload(sys.modules['helpers'])\n",
    "from helpers import *\n",
    "\n",
    "# Set cuda gpu\n",
    "device_id = 0\n",
    "device = torch.device(f'cuda:{device_id}' if torch.cuda.is_available() else 'cpu')\n",
    "print(f'device is {device}')\n"
   ]
  },
  {
   "cell_type": "code",
   "execution_count": 2,
   "id": "d3359553-540d-413e-a572-ca148766c59c",
   "metadata": {},
   "outputs": [],
   "source": [
    "logging.basicConfig(format=\"%(asctime)s - %(levelname)s: %(message)s\", level=logging.INFO, datefmt=\"%I:%M:%S\")"
   ]
  },
  {
   "cell_type": "code",
   "execution_count": 3,
   "id": "23b77242-3b0f-4bb8-8038-e62ec38b51b5",
   "metadata": {},
   "outputs": [
    {
     "data": {
      "image/png": "[encoded data removed]",
      "text/plain": [
       "<IPython.core.display.Image object>"
      ]
     },
     "metadata": {},
     "output_type": "display_data"
    }
   ],
   "source": [
    "# CA Parameters\n",
    "\n",
    "CHANNEL_N = 16\n",
    "HIDDEN_SIZE = 128\n",
    "PERCEPTION_SIZE = 48  # size of perception vector\n",
    "BATCH_SIZE = 8\n",
    "CELL_FIRE_RATE = 0.5\n",
    "TARGET_PADDING = 16\n",
    "\n",
    "# Don't even try pooling now\n",
    "\n",
    "TARGET_EMOJI = \"🛩\"\n",
    "target_img = load_emoji(TARGET_EMOJI)\n",
    "imshow(target_img)"
   ]
  },
  {
   "cell_type": "code",
   "execution_count": 5,
   "id": "a4e80377-5235-4448-b8ac-b08e79a06fdf",
   "metadata": {},
   "outputs": [
    {
     "name": "stdout",
     "output_type": "stream",
     "text": [
      "torch.Size([8]) tensor([502, 124,  80, 270, 243, 861, 581, 887], device='cuda:0')\n",
      "torch.Size([8, 1])\n",
      "torch.Size([8, 256])\n"
     ]
    },
    {
     "data": {
      "text/plain": [
       "tensor([[-0.6090,  0.8135,  0.9224,  ...,  0.9981,  0.9983,  0.9985],\n",
       "        [-0.9957,  0.7500,  0.5358,  ...,  0.9999,  0.9999,  0.9999],\n",
       "        [-0.9939, -0.8148,  0.1614,  ...,  1.0000,  1.0000,  1.0000],\n",
       "        ...,\n",
       "        [ 0.2022, -0.1161, -0.8613,  ...,  0.9943,  0.9951,  0.9957],\n",
       "        [ 0.1934,  0.3036,  0.4533,  ...,  0.9974,  0.9978,  0.9981],\n",
       "        [ 0.8776,  0.7321,  1.0000,  ...,  0.9939,  0.9948,  0.9955]],\n",
       "       device='cuda:0')"
      ]
     },
     "execution_count": 5,
     "metadata": {},
     "output_type": "execute_result"
    }
   ],
   "source": [
    "def pos_encoding(t, channels):\n",
    "    \"\"\"Encode time tensor using sinusoidal embedding\"\"\"\n",
    "    inv_freq = 1.0 / (\n",
    "        10000\n",
    "        ** (torch.arange(0, channels, 2, device=device).float() / channels)\n",
    "    )\n",
    "    pos_enc_a = torch.sin(t.repeat(1, channels // 2) * inv_freq)\n",
    "    pos_enc_b = torch.cos(t.repeat(1, channels // 2) * inv_freq)\n",
    "    pos_enc = torch.cat([pos_enc_a, pos_enc_b], dim=-1)\n",
    "    return pos_enc\n",
    "\n",
    "# How to use the positional encoding:\n",
    "t = torch.randint(low=1, high=1000, size=(8,)).to(device)\n",
    "print(t.shape, t)\n",
    "t = t.unsqueeze(-1).type(torch.float)\n",
    "print(t.shape)\n",
    "encoded_t = pos_encoding(t, 256)\n",
    "print(encoded_t.shape)\n",
    "encoded_t\n"
   ]
  },
  {
   "cell_type": "code",
   "execution_count": null,
   "id": "e6648f0c-fa4f-4882-9681-cf804702dc4b",
   "metadata": {},
   "outputs": [],
   "source": [
    "class DiffusionCA:\n",
    "    "
   ]
  }
 ],
 "metadata": {
  "kernelspec": {
   "display_name": "Python 3 (ipykernel)",
   "language": "python",
   "name": "python3"
  },
  "language_info": {
   "codemirror_mode": {
    "name": "ipython",
    "version": 3
   },
   "file_extension": ".py",
   "mimetype": "text/x-python",
   "name": "python",
   "nbconvert_exporter": "python",
   "pygments_lexer": "ipython3",
   "version": "3.9.15"
  }
 },
 "nbformat": 4,
 "nbformat_minor": 5
}
