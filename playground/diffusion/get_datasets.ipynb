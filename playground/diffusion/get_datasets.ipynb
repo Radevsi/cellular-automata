{
 "cells": [
  {
   "cell_type": "code",
   "execution_count": 1,
   "id": "9a80ca4e-22c1-4594-9fb8-0f274af2fd10",
   "metadata": {},
   "outputs": [],
   "source": [
    "import os\n",
    "import io\n",
    "import PIL.Image, PIL.ImageDraw\n",
    "import matplotlib.pyplot as plt\n",
    "import requests\n",
    "import numpy as np\n",
    "import torch\n",
    "import torch.nn as nn\n",
    "import torch.nn.functional as F\n",
    "import torchvision\n",
    "\n",
    "from tqdm import tqdm\n",
    "\n",
    "from helpers import *\n",
    "\n",
    "# Notebook dependencies\n",
    "from IPython.display import clear_output, Image"
   ]
  },
  {
   "cell_type": "markdown",
   "id": "5bf8416e-f14d-4110-8395-e818021c91e8",
   "metadata": {},
   "source": [
    "# MNIST"
   ]
  },
  {
   "cell_type": "code",
   "execution_count": 2,
   "id": "5ee93d21-9cf6-4fee-a2d2-e5eb0a510be8",
   "metadata": {
    "tags": []
   },
   "outputs": [],
   "source": [
    "img_size, batch_size = 28, 8\n",
    "\n",
    "transforms = torchvision.transforms.Compose([\n",
    "    # torchvision.transforms.Resize(80),\n",
    "    torchvision.transforms.RandomResizedCrop(img_size, scale=(0.8, 1.0)),\n",
    "    torchvision.transforms.ToTensor(),\n",
    "    torchvision.transforms.Normalize((0.5,), (0.5,)) # global mean and std of MNIST\n",
    "])\n",
    "    \n",
    "dataset_mnist = torchvision.datasets.MNIST(root='datasets', train=False, download=True, transform=transforms)\n",
    "dataloader_mnist = torch.utils.data.DataLoader(dataset_mnist, batch_size=batch_size, shuffle=True)  \n"
   ]
  },
  {
   "cell_type": "code",
   "execution_count": 3,
   "id": "14abf7ed-430c-4a22-966b-7a0bd3744eb4",
   "metadata": {},
   "outputs": [],
   "source": [
    "examples = enumerate(dataloader_mnist)\n",
    "batch_idx, (example_data, example_targets) = next(examples)"
   ]
  },
  {
   "cell_type": "code",
   "execution_count": 4,
   "id": "8643ce72-80ed-4065-a00c-60443d36e426",
   "metadata": {},
   "outputs": [
    {
     "data": {
      "text/plain": [
       "0"
      ]
     },
     "execution_count": 4,
     "metadata": {},
     "output_type": "execute_result"
    }
   ],
   "source": [
    "batch_idx"
   ]
  },
  {
   "cell_type": "code",
   "execution_count": 113,
   "id": "23d34dec-6517-43c1-a469-ef8a524a2e53",
   "metadata": {},
   "outputs": [],
   "source": [
    "dataset = torchvision.datasets.MNIST(root='./datasets', download=True, train=False, transform=transforms)"
   ]
  },
  {
   "cell_type": "code",
   "execution_count": 114,
   "id": "f53f91a1-4152-4c2f-8434-9221c776d2a2",
   "metadata": {},
   "outputs": [
    {
     "data": {
      "text/plain": [
       "Dataset MNIST\n",
       "    Number of datapoints: 10000\n",
       "    Root location: ./datasets\n",
       "    Split: Test\n",
       "    StandardTransform\n",
       "Transform: Compose(\n",
       "               Resize(size=80, interpolation=bilinear, max_size=None, antialias=None)\n",
       "               RandomResizedCrop(size=(64, 64), scale=(0.8, 1.0), ratio=(0.75, 1.3333), interpolation=bilinear), antialias=None)\n",
       "               ToTensor()\n",
       "               Normalize(mean=(0.5,), std=(0.5,))\n",
       "           )"
      ]
     },
     "execution_count": 114,
     "metadata": {},
     "output_type": "execute_result"
    }
   ],
   "source": [
    "dataset"
   ]
  },
  {
   "cell_type": "code",
   "execution_count": 115,
   "id": "78a4b5c1-07a8-4419-a7ac-3ea9c2c0d9ed",
   "metadata": {},
   "outputs": [
    {
     "name": "stdout",
     "output_type": "stream",
     "text": [
      "torch.Size([10000, 28, 28])\n"
     ]
    },
    {
     "data": {
      "image/png": "[encoded data removed]",
      "text/plain": [
       "<Figure size 3200x3200 with 1 Axes>"
      ]
     },
     "metadata": {},
     "output_type": "display_data"
    },
    {
     "name": "stdout",
     "output_type": "stream",
     "text": [
      "tensor([7, 2, 1, 0, 4, 1, 4, 9])\n"
     ]
    }
   ],
   "source": [
    "data = dataset.data\n",
    "print(data.shape)\n",
    "plot_images(data[:8, ...].unsqueeze(1))\n",
    "print(dataset.targets[:8])"
   ]
  },
  {
   "cell_type": "code",
   "execution_count": 116,
   "id": "ac681394-a064-4819-b73f-6a65353e0121",
   "metadata": {},
   "outputs": [
    {
     "data": {
      "text/plain": [
       "(tensor(0, dtype=torch.uint8), tensor(255, dtype=torch.uint8))"
      ]
     },
     "execution_count": 116,
     "metadata": {},
     "output_type": "execute_result"
    }
   ],
   "source": [
    "dataset.data.min(), dataset.data.max()"
   ]
  },
  {
   "cell_type": "code",
   "execution_count": 5,
   "id": "5b15df91-3cec-406b-832f-0e5c614d2338",
   "metadata": {},
   "outputs": [
    {
     "name": "stdout",
     "output_type": "stream",
     "text": [
      "CPU times: user 1min, sys: 119 ms, total: 1min\n",
      "Wall time: 1min 11s\n"
     ]
    }
   ],
   "source": [
    "%%time\n",
    "\n",
    "# Referenced: https://stackoverflow.com/questions/70698487/how-to-get-a-pytorch-data-loader-per-class\n",
    "\n",
    "subsets = {target: \n",
    "               torch.utils.data.Subset(\n",
    "                   dataset_mnist, \n",
    "                       [i for i, (x, y) in enumerate(dataset_mnist) if y == target]\n",
    "               ) for _, target in dataset_mnist.class_to_idx.items()\n",
    "            }\n",
    "loaders = {target: torch.utils.data.DataLoader(subset, batch_size=8) for target, subset in subsets.items()}"
   ]
  },
  {
   "cell_type": "code",
   "execution_count": 15,
   "id": "70fe155a-1eac-40a5-90aa-6da7751b6c76",
   "metadata": {},
   "outputs": [],
   "source": [
    "# Try to save the loaders\n",
    "torch.save(loaders, 'mnist_classed.pkl')"
   ]
  },
  {
   "cell_type": "code",
   "execution_count": 190,
   "id": "40c874c3-4cb7-49ec-a426-a229d741f975",
   "metadata": {},
   "outputs": [],
   "source": [
    "test_load = torch.load('mnist_classed.pkl')"
   ]
  },
  {
   "cell_type": "code",
   "execution_count": 177,
   "id": "296d055f-d8eb-47eb-8f2c-1743c4041354",
   "metadata": {},
   "outputs": [
    {
     "name": "stdout",
     "output_type": "stream",
     "text": [
      "torch.Size([1, 1, 64, 64])\n",
      "torch.Size([1])\n"
     ]
    }
   ],
   "source": [
    "def get_batched_loader(loaders, class_number, batch_size=8):\n",
    "    loader = loaders[class_number]\n",
    "    batch_size = 8\n",
    "    for idx in range(0, len(loader), batch_size):\n",
    "        loaders\n",
    "        print(data.shape)\n",
    "        print(label.shape)\n",
    "        break"
   ]
  },
  {
   "cell_type": "code",
   "execution_count": 7,
   "id": "aff8077b-3cf7-4e3d-b04c-031bd5f88677",
   "metadata": {},
   "outputs": [],
   "source": [
    "batch_idx, (example_data, example_targets) = next(enumerate(loaders[0]))"
   ]
  },
  {
   "cell_type": "code",
   "execution_count": 191,
   "id": "ff528a90-86a0-4c8b-be3c-3c6ea1532291",
   "metadata": {},
   "outputs": [
    {
     "data": {
      "text/plain": [
       "<torch.utils.data.dataloader.DataLoader at 0x7f3539501310>"
      ]
     },
     "execution_count": 191,
     "metadata": {},
     "output_type": "execute_result"
    }
   ],
   "source": [
    "test_load[0]"
   ]
  },
  {
   "cell_type": "code",
   "execution_count": 8,
   "id": "db8ac0f3-31ed-4472-a44c-25ff1c8840e6",
   "metadata": {},
   "outputs": [
    {
     "data": {
      "text/plain": [
       "(torch.Size([8, 1, 28, 28]), torch.Size([8]))"
      ]
     },
     "execution_count": 8,
     "metadata": {},
     "output_type": "execute_result"
    }
   ],
   "source": [
    "example_data.shape, example_targets.shape"
   ]
  },
  {
   "cell_type": "code",
   "execution_count": 169,
   "id": "2531500c-6bb7-4620-a7c0-b7a9539a1e15",
   "metadata": {},
   "outputs": [],
   "source": [
    "images = []\n",
    "for (i, (_, image)) in enumerate(class0):\n",
    "    if i == 8:\n",
    "        break\n",
    "    images.append(image[0, ...])\n",
    "images = torch.tensor(images)"
   ]
  },
  {
   "cell_type": "code",
   "execution_count": 170,
   "id": "93950a77-cd12-4573-b7ac-012b6d3addc0",
   "metadata": {},
   "outputs": [
    {
     "data": {
      "text/plain": [
       "tensor([0])"
      ]
     },
     "execution_count": 170,
     "metadata": {},
     "output_type": "execute_result"
    }
   ],
   "source": [
    "example_targets"
   ]
  },
  {
   "cell_type": "code",
   "execution_count": 13,
   "id": "94f0ae2a-29f8-46f0-9b84-60e65b12be72",
   "metadata": {},
   "outputs": [],
   "source": [
    "def plot_images(images):\n",
    "    # Expect PyTorch shaping convention\n",
    "    plt.figure(figsize=(32, 32))\n",
    "    plt.imshow(torch.cat([\n",
    "        torch.cat([i for i in images.cpu()], dim=-1)\n",
    "    ], dim=-2).permute(1, 2, 0).cpu(), cmap='gray')\n",
    "    plt.show()\n",
    "    "
   ]
  },
  {
   "cell_type": "code",
   "execution_count": 14,
   "id": "858d3202-6f66-47f4-88e8-c6167341612a",
   "metadata": {},
   "outputs": [
    {
     "data": {
      "image/png": "[encoded data removed]",
      "text/plain": [
       "<Figure size 3200x3200 with 1 Axes>"
      ]
     },
     "metadata": {},
     "output_type": "display_data"
    }
   ],
   "source": [
    "plot_images(example_data)"
   ]
  },
  {
   "cell_type": "code",
   "execution_count": 92,
   "id": "8afa62e3-154e-4fbc-8397-b8a6896b19fa",
   "metadata": {},
   "outputs": [
    {
     "data": {
      "text/plain": [
       "(array([2637.,  106.,   86.,   88.,   68.,   75.,   85.,   80.,  130.,\n",
       "         741.]),\n",
       " array([-1. , -0.8, -0.6, -0.4, -0.2,  0. ,  0.2,  0.4,  0.6,  0.8,  1. ],\n",
       "       dtype=float32),\n",
       " <BarContainer object of 10 artists>)"
      ]
     },
     "execution_count": 92,
     "metadata": {},
     "output_type": "execute_result"
    },
    {
     "data": {
      "image/png": "[encoded data removed]",
      "text/plain": [
       "<Figure size 640x480 with 1 Axes>"
      ]
     },
     "metadata": {},
     "output_type": "display_data"
    }
   ],
   "source": [
    "plt.hist(example_data[0].flatten())"
   ]
  },
  {
   "cell_type": "code",
   "execution_count": 95,
   "id": "f141f14e-4b1b-481c-a122-74043d313673",
   "metadata": {},
   "outputs": [
    {
     "data": {
      "text/plain": [
       "(tensor(-1.), tensor(1.), torch.float32)"
      ]
     },
     "execution_count": 95,
     "metadata": {},
     "output_type": "execute_result"
    }
   ],
   "source": [
    "example_data.min(), example_data.max(), example_data.dtype"
   ]
  },
  {
   "cell_type": "code",
   "execution_count": null,
   "id": "b8e6c53a-6ac7-4dac-b1f2-73d33d19f4c5",
   "metadata": {},
   "outputs": [],
   "source": []
  },
  {
   "cell_type": "markdown",
   "id": "71c82965-bc0b-437d-81fd-36541ce82e41",
   "metadata": {},
   "source": [
    "## Polkadots"
   ]
  },
  {
   "cell_type": "code",
   "execution_count": null,
   "id": "b7895370-adfa-44c5-b7cd-f74ae998e2da",
   "metadata": {},
   "outputs": [],
   "source": [
    "def imread(url, max_size=None, mode=None):\n",
    "  if url.startswith(('http:', 'https:')):\n",
    "    # wikimedia requires a user agent\n",
    "    headers = {\n",
    "      \"User-Agent\": \"Requests in Colab/0.0 (https://colab.research.google.com/; no-reply@google.com) requests/0.0\"\n",
    "    }\n",
    "    r = requests.get(url, headers=headers)\n",
    "    f = io.BytesIO(r.content)\n",
    "  else:\n",
    "    f = url\n",
    "  img = PIL.Image.open(f)\n",
    "  if max_size is not None:\n",
    "    img.thumbnail((max_size, max_size), PIL.Image.Resampling.LANCZOS)\n",
    "  if mode is not None:\n",
    "    img = img.convert(mode)\n",
    "  img = np.float32(img)/255.0\n",
    "  return img\n",
    "\n",
    "url = 'https://www.robots.ox.ac.uk/~vgg/data/dtd/thumbs/dotted/dotted_0201.jpg'\n",
    "style_img = imread(url, max_size=28)\n",
    "\n",
    "print(style_img.shape)\n",
    "imshow(style_img)\n",
    "\n",
    "img_size, batch_size = 28, 8\n",
    "\n",
    "transforms = torchvision.transforms.Compose([\n",
    "    # torchvision.transforms.Resize(80),\n",
    "    torchvision.transforms.RandomResizedCrop(img_size, scale=(0.8, 1.0)),\n",
    "    torchvision.transforms.ToTensor(),\n",
    "    torchvision.transforms.Normalize((0.5,), (0.5,)) # global mean and std of MNIST\n",
    "])\n",
    "\n",
    "transformed_img = transforms(np2pil(style_img))"
   ]
  },
  {
   "cell_type": "code",
   "execution_count": null,
   "id": "40ae62d3-14d6-4bce-967d-bd7ee68be909",
   "metadata": {},
   "outputs": [],
   "source": []
  },
  {
   "cell_type": "markdown",
   "id": "36a176a7-de37-4494-b299-7b3a08d22744",
   "metadata": {},
   "source": [
    "# DTD"
   ]
  },
  {
   "cell_type": "code",
   "execution_count": 3,
   "id": "34482053-beff-46d7-ac83-b35cca9c09f9",
   "metadata": {},
   "outputs": [],
   "source": [
    "img_size, batch_size = 28, 8\n",
    "\n",
    "transforms = torchvision.transforms.Compose([\n",
    "    # torchvision.transforms.Resize(80),\n",
    "    torchvision.transforms.RandomResizedCrop(img_size, scale=(0.8, 1.0)),\n",
    "    torchvision.transforms.ToTensor(),\n",
    "    torchvision.transforms.Normalize((0.5,), (0.5,)) # global mean and std of MNIST\n",
    "])\n",
    "    \n",
    "dataset_dtd = torchvision.datasets.DTD(root='datasets', download=True, transform=transforms)\n",
    "dataloader_dtd = torch.utils.data.DataLoader(dataset_dtd, batch_size=batch_size, shuffle=True)  \n"
   ]
  },
  {
   "cell_type": "code",
   "execution_count": 7,
   "id": "8e537a05-8e91-4177-a9a7-d2d59faa8603",
   "metadata": {},
   "outputs": [],
   "source": [
    "def get_dtd():\n",
    "    img_size, batch_size = 28, 8\n",
    "\n",
    "    transforms = torchvision.transforms.Compose([\n",
    "        # torchvision.transforms.Resize(80),\n",
    "        torchvision.transforms.RandomResizedCrop(img_size, scale=(0.8, 1.0)),\n",
    "        torchvision.transforms.ToTensor(),\n",
    "        torchvision.transforms.Normalize((0.5,), (0.5,)) # global mean and std of MNIST\n",
    "    ])\n",
    "    K = 800 # enter your length here\n",
    "    dataset_dtd = torchvision.datasets.DTD(root='datasets', download=False, transform=transforms)\n",
    "    \n",
    "    \n",
    "    subsample_train_indices = torch.randperm(len(dataset_dtd))[:K]\n",
    "    subloader_mnist = torch.utils.data.DataLoader(dataset_dtd, batch_size=8, \n",
    "                              sampler=torch.utils.data.SubsetRandomSampler(subsample_train_indices))    \n",
    "    \n",
    "    return dataset_dtd  \n",
    "\n",
    "dataset_dtd = get_dtd()"
   ]
  },
  {
   "cell_type": "code",
   "execution_count": 8,
   "id": "e74e18b4-006a-4702-87aa-2d3319175633",
   "metadata": {},
   "outputs": [
    {
     "data": {
      "text/plain": [
       "Dataset DTD\n",
       "    Number of datapoints: 1880\n",
       "    Root location: datasets\n",
       "    split=train, partition=1\n",
       "    StandardTransform\n",
       "Transform: Compose(\n",
       "               RandomResizedCrop(size=(28, 28), scale=(0.8, 1.0), ratio=(0.75, 1.3333), interpolation=bilinear), antialias=None)\n",
       "               ToTensor()\n",
       "               Normalize(mean=(0.5,), std=(0.5,))\n",
       "           )"
      ]
     },
     "execution_count": 8,
     "metadata": {},
     "output_type": "execute_result"
    }
   ],
   "source": [
    "dataset_dtd"
   ]
  },
  {
   "cell_type": "code",
   "execution_count": 9,
   "id": "5ee38d4f-8194-4b85-80af-3803edd2f82d",
   "metadata": {},
   "outputs": [
    {
     "name": "stdout",
     "output_type": "stream",
     "text": [
      "torch.Size([8, 3, 28, 28])\n",
      "tensor([ 7, 26, 34, 31, 13, 26,  1, 43])\n"
     ]
    },
    {
     "name": "stderr",
     "output_type": "stream",
     "text": [
      "Clipping input data to the valid range for imshow with RGB data ([0..1] for floats or [0..255] for integers).\n"
     ]
    },
    {
     "data": {
      "image/png": "[encoded data removed]",
      "text/plain": [
       "<Figure size 3200x3200 with 1 Axes>"
      ]
     },
     "metadata": {},
     "output_type": "display_data"
    }
   ],
   "source": [
    "for idx, (data, label) in enumerate(dataloader_dtd):\n",
    "    print(data.shape)\n",
    "    print(label)\n",
    "    plot_images(data)\n",
    "    break"
   ]
  },
  {
   "cell_type": "code",
   "execution_count": 62,
   "id": "75f8dd96-74ec-4f9a-9fdb-325d3a574bfa",
   "metadata": {
    "tags": []
   },
   "outputs": [
    {
     "data": {
      "text/plain": [
       "{'banded': 0,\n",
       " 'blotchy': 1,\n",
       " 'braided': 2,\n",
       " 'bubbly': 3,\n",
       " 'bumpy': 4,\n",
       " 'chequered': 5,\n",
       " 'cobwebbed': 6,\n",
       " 'cracked': 7,\n",
       " 'crosshatched': 8,\n",
       " 'crystalline': 9,\n",
       " 'dotted': 10,\n",
       " 'fibrous': 11,\n",
       " 'flecked': 12,\n",
       " 'freckled': 13,\n",
       " 'frilly': 14,\n",
       " 'gauzy': 15,\n",
       " 'grid': 16,\n",
       " 'grooved': 17,\n",
       " 'honeycombed': 18,\n",
       " 'interlaced': 19,\n",
       " 'knitted': 20,\n",
       " 'lacelike': 21,\n",
       " 'lined': 22,\n",
       " 'marbled': 23,\n",
       " 'matted': 24,\n",
       " 'meshed': 25,\n",
       " 'paisley': 26,\n",
       " 'perforated': 27,\n",
       " 'pitted': 28,\n",
       " 'pleated': 29,\n",
       " 'polka-dotted': 30,\n",
       " 'porous': 31,\n",
       " 'potholed': 32,\n",
       " 'scaly': 33,\n",
       " 'smeared': 34,\n",
       " 'spiralled': 35,\n",
       " 'sprinkled': 36,\n",
       " 'stained': 37,\n",
       " 'stratified': 38,\n",
       " 'striped': 39,\n",
       " 'studded': 40,\n",
       " 'swirly': 41,\n",
       " 'veined': 42,\n",
       " 'waffled': 43,\n",
       " 'woven': 44,\n",
       " 'wrinkled': 45,\n",
       " 'zigzagged': 46}"
      ]
     },
     "execution_count": 62,
     "metadata": {},
     "output_type": "execute_result"
    }
   ],
   "source": [
    "dataset_dtd.class_to_idx"
   ]
  },
  {
   "cell_type": "code",
   "execution_count": 69,
   "id": "7ed39f59-1cd8-49be-b115-220ccc697294",
   "metadata": {},
   "outputs": [
    {
     "data": {
      "text/plain": [
       "(tensor([[[ 0.3882,  0.1765,  0.2000,  ...,  0.5373,  0.6314,  0.1059],\n",
       "          [ 0.3804,  0.1686,  0.1765,  ...,  0.5137,  0.6157,  0.0980],\n",
       "          [ 0.3804,  0.1608,  0.1686,  ...,  0.4902,  0.5922,  0.1059],\n",
       "          ...,\n",
       "          [-0.0275, -0.0431, -0.1608,  ...,  0.1922,  0.2706, -0.1059],\n",
       "          [-0.0353, -0.0667, -0.1922,  ...,  0.1686,  0.2392, -0.1608],\n",
       "          [-0.0588, -0.0824, -0.2078,  ...,  0.1529,  0.2314, -0.2000]],\n",
       " \n",
       "         [[ 0.0353,  0.0824,  0.1059,  ...,  0.0510,  0.1529, -0.1294],\n",
       "          [ 0.0275,  0.0745,  0.0824,  ...,  0.0353,  0.1373, -0.1529],\n",
       "          [ 0.0275,  0.0745,  0.0745,  ...,  0.0275,  0.1137, -0.1608],\n",
       "          ...,\n",
       "          [-0.1294, -0.1373, -0.2235,  ..., -0.2235, -0.1686, -0.3725],\n",
       "          [-0.1294, -0.1608, -0.2627,  ..., -0.2392, -0.1843, -0.4039],\n",
       "          [-0.1529, -0.1765, -0.2706,  ..., -0.2549, -0.1843, -0.4275]],\n",
       " \n",
       "         [[-0.0353,  0.0667,  0.0745,  ..., -0.2157, -0.4667, -0.2784],\n",
       "          [-0.0510,  0.0588,  0.0510,  ..., -0.2314, -0.4902, -0.3176],\n",
       "          [-0.0667,  0.0431,  0.0431,  ..., -0.2392, -0.5137, -0.3490],\n",
       "          ...,\n",
       "          [-0.2392, -0.2235, -0.2471,  ..., -0.4902, -0.7412, -0.6078],\n",
       "          [-0.2314, -0.2392, -0.2863,  ..., -0.5137, -0.7647, -0.6314],\n",
       "          [-0.2471, -0.2549, -0.3020,  ..., -0.5373, -0.7647, -0.6392]]]),\n",
       " 0)"
      ]
     },
     "execution_count": 69,
     "metadata": {},
     "output_type": "execute_result"
    }
   ],
   "source": [
    "dataloader_dtd.dataset[3]"
   ]
  },
  {
   "cell_type": "code",
   "execution_count": 58,
   "id": "cec21511-120d-4aed-8d40-9472ba17b354",
   "metadata": {},
   "outputs": [
    {
     "data": {
      "text/plain": [
       "<torch.utils.data.sampler.BatchSampler at 0x7f0b15ea36a0>"
      ]
     },
     "execution_count": 58,
     "metadata": {},
     "output_type": "execute_result"
    }
   ],
   "source": [
    "dataloader_dtd.batch_sampler("
   ]
  },
  {
   "cell_type": "code",
   "execution_count": 43,
   "id": "8a0806fe-cad4-43cc-830a-f534d4c70456",
   "metadata": {
    "tags": []
   },
   "outputs": [
    {
     "data": {
      "text/plain": [
       "1880"
      ]
     },
     "execution_count": 43,
     "metadata": {},
     "output_type": "execute_result"
    }
   ],
   "source": [
    "len(dataset_dtd)"
   ]
  },
  {
   "cell_type": "code",
   "execution_count": 70,
   "id": "197d4105-1067-434e-8252-436de6e52f14",
   "metadata": {},
   "outputs": [
    {
     "name": "stdout",
     "output_type": "stream",
     "text": [
      "3\n"
     ]
    },
    {
     "data": {
      "text/plain": [
       "torch.Size([3, 28, 28])"
      ]
     },
     "execution_count": 70,
     "metadata": {},
     "output_type": "execute_result"
    }
   ],
   "source": [
    "idx = dataset_dtd.class_to_idx['bubbly']\n",
    "print(idx)\n",
    "polkadots = dataset_dtd[idx]\n",
    "len(polkadots)\n",
    "polkadots[0].shape"
   ]
  },
  {
   "cell_type": "code",
   "execution_count": 36,
   "id": "0892d078-26bb-458c-a1a3-788ad9c20481",
   "metadata": {},
   "outputs": [
    {
     "data": {
      "text/plain": [
       "torch.Size([3, 28, 28])"
      ]
     },
     "execution_count": 36,
     "metadata": {},
     "output_type": "execute_result"
    }
   ],
   "source": [
    "polkadots[0].shape"
   ]
  },
  {
   "cell_type": "code",
   "execution_count": 71,
   "id": "62499058-69a0-4d8f-b39e-2154f539d6dd",
   "metadata": {},
   "outputs": [
    {
     "name": "stderr",
     "output_type": "stream",
     "text": [
      "Clipping input data to the valid range for imshow with RGB data ([0..1] for floats or [0..255] for integers).\n"
     ]
    },
    {
     "data": {
      "image/png": "[encoded data removed]",
      "text/plain": [
       "<Figure size 3200x3200 with 1 Axes>"
      ]
     },
     "metadata": {},
     "output_type": "display_data"
    }
   ],
   "source": [
    "plot_images(polkadots[0].unsqueeze(0))"
   ]
  },
  {
   "cell_type": "code",
   "execution_count": 60,
   "id": "656824e3-6002-4cfb-bb39-00d5b3053b45",
   "metadata": {},
   "outputs": [
    {
     "data": {
      "text/plain": [
       "(tensor(-0.6157), tensor(0.9922), torch.float32)"
      ]
     },
     "execution_count": 60,
     "metadata": {},
     "output_type": "execute_result"
    }
   ],
   "source": [
    "dataset_dtd[idx][0].min(), dataset_dtd[idx][0].max(), dataset_dtd[idx][0].dtype"
   ]
  },
  {
   "cell_type": "markdown",
   "id": "bef10216-96a7-4df0-a6da-efc5d47425c4",
   "metadata": {},
   "source": [
    "## CIFAR"
   ]
  },
  {
   "cell_type": "code",
   "execution_count": null,
   "id": "2ae9d4bb-97bb-450c-9487-03b7446cd049",
   "metadata": {},
   "outputs": [],
   "source": [
    "    K = 1000 # enter your length here\n",
    "    dataset_mnist = torchvision.datasets.MNIST(root='datasets', train=False, download=False, transform=transforms)\n",
    "    subsample_train_indices = torch.randperm(len(dataset_mnist))[:K]\n",
    "    subloader_mnist = torch.utils.data.DataLoader(dataset_mnist, batch_size=BATCH_SIZE, \n",
    "                              sampler=torch.utils.data.SubsetRandomSampler(subsample_train_indices))    \n",
    "    \n",
    "    return subloader_mnist    "
   ]
  },
  {
   "cell_type": "code",
   "execution_count": 89,
   "id": "174e6e17-4cd1-4a72-b01b-b35659ef85d9",
   "metadata": {},
   "outputs": [],
   "source": [
    "def get_cifar(download=False, img_size=28, batch_size=8):\n",
    "    transforms = torchvision.transforms.Compose([\n",
    "        torchvision.transforms.RandomResizedCrop(img_size, scale=(0.8, 1.0)),\n",
    "        torchvision.transforms.ToTensor(),\n",
    "        torchvision.transforms.Normalize((0.5, 0.5, 0.5), (0.5, 0.5, 0.5))\n",
    "    ])\n",
    "    K = 5000\n",
    "    \n",
    "    dataset_cifar = torchvision.datasets.CIFAR10(root='datasets', train=False, download=download, transform=transforms)\n",
    "    subsample_train_indices = torch.randperm(len(dataset_cifar))[:K]\n",
    "    subloader_cifar = torch.utils.data.DataLoader(dataset_cifar, batch_size=batch_size, \n",
    "                              sampler=torch.utils.data.SubsetRandomSampler(subsample_train_indices))     \n",
    "    return subloader_cifar"
   ]
  },
  {
   "cell_type": "code",
   "execution_count": 90,
   "id": "599c52a6-60f6-47a6-9443-ffda2d4d4f8f",
   "metadata": {},
   "outputs": [
    {
     "data": {
      "text/plain": [
       "625"
      ]
     },
     "execution_count": 90,
     "metadata": {},
     "output_type": "execute_result"
    }
   ],
   "source": [
    "subloader_cifar = get_cifar()\n",
    "len(subloader_cifar)"
   ]
  },
  {
   "cell_type": "code",
   "execution_count": 72,
   "id": "97593ee7-6fea-4a33-8dd1-a88faca2cabd",
   "metadata": {},
   "outputs": [],
   "source": [
    "def get_data(dataset_name, download=False, img_size=28, batch_size=8):\n",
    "    transforms = torchvision.transforms.Compose([\n",
    "        # torchvision.transforms.Resize(80),\n",
    "        torchvision.transforms.RandomResizedCrop(img_size, scale=(0.8, 1.0)),\n",
    "        torchvision.transforms.ToTensor(),\n",
    "        torchvision.transforms.Normalize((0.5, 0.5, 0.5), (0.5, 0.5, 0.5))\n",
    "    ])\n",
    "    \n",
    "    if dataset_name == 'cifar' or dataset_name == 'cifar10' or dataset_name == 'CIFAR10':\n",
    "        dataset = torchvision.datasets.CIFAR10(root='datasets', download=download, transform=transforms)\n",
    "\n",
    "    dataloader = torch.utils.data.DataLoader(dataset,\n",
    "                                              batch_size=batch_size, shuffle=True)        \n",
    "    return dataloader"
   ]
  },
  {
   "cell_type": "code",
   "execution_count": 74,
   "id": "52266d08-8830-482f-801b-aacb472cb00a",
   "metadata": {},
   "outputs": [
    {
     "name": "stdout",
     "output_type": "stream",
     "text": [
      "Downloading https://www.cs.toronto.edu/~kriz/cifar-10-python.tar.gz to datasets/cifar-10-python.tar.gz\n"
     ]
    },
    {
     "data": {
      "application/vnd.jupyter.widget-view+json": {
       "model_id": "a0e6db17566b492da470b1df82d1fb5a",
       "version_major": 2,
       "version_minor": 0
      },
      "text/plain": [
       "  0%|          | 0/170498071 [00:01<?, ?it/s]"
      ]
     },
     "metadata": {},
     "output_type": "display_data"
    },
    {
     "name": "stdout",
     "output_type": "stream",
     "text": [
      "Extracting datasets/cifar-10-python.tar.gz to datasets\n"
     ]
    }
   ],
   "source": [
    "dataloader_cifar = get_data('cifar', download=True)"
   ]
  },
  {
   "cell_type": "code",
   "execution_count": 84,
   "id": "31747cc0-66c1-4d1b-9f62-a5103df8156d",
   "metadata": {},
   "outputs": [
    {
     "ename": "TypeError",
     "evalue": "'function' object is not iterable",
     "output_type": "error",
     "traceback": [
      "\u001b[0;31m---------------------------------------------------------------------------\u001b[0m",
      "\u001b[0;31mTypeError\u001b[0m                                 Traceback (most recent call last)",
      "\u001b[0;32m/tmp/ipykernel_1134585/1654072977.py\u001b[0m in \u001b[0;36m<module>\u001b[0;34m\u001b[0m\n\u001b[0;32m----> 1\u001b[0;31m \u001b[0;32mfor\u001b[0m \u001b[0mdata\u001b[0m \u001b[0;32min\u001b[0m \u001b[0msubloader_cifar\u001b[0m\u001b[0;34m:\u001b[0m\u001b[0;34m\u001b[0m\u001b[0;34m\u001b[0m\u001b[0m\n\u001b[0m\u001b[1;32m      2\u001b[0m     \u001b[0mcifar_image\u001b[0m\u001b[0;34m,\u001b[0m \u001b[0mcifar_label\u001b[0m \u001b[0;34m=\u001b[0m \u001b[0mdata\u001b[0m\u001b[0;34m\u001b[0m\u001b[0;34m\u001b[0m\u001b[0m\n\u001b[1;32m      3\u001b[0m     \u001b[0;32mbreak\u001b[0m\u001b[0;34m\u001b[0m\u001b[0;34m\u001b[0m\u001b[0m\n\u001b[1;32m      4\u001b[0m \u001b[0mprint\u001b[0m\u001b[0;34m(\u001b[0m\u001b[0mtype\u001b[0m\u001b[0;34m(\u001b[0m\u001b[0mcifar_image\u001b[0m\u001b[0;34m)\u001b[0m\u001b[0;34m,\u001b[0m \u001b[0mtype\u001b[0m\u001b[0;34m(\u001b[0m\u001b[0mcifar_label\u001b[0m\u001b[0;34m)\u001b[0m\u001b[0;34m)\u001b[0m\u001b[0;34m\u001b[0m\u001b[0;34m\u001b[0m\u001b[0m\n",
      "\u001b[0;31mTypeError\u001b[0m: 'function' object is not iterable"
     ]
    }
   ],
   "source": [
    "for data in subloader_cifar:\n",
    "    cifar_image, cifar_label = data\n",
    "    break\n",
    "print(type(cifar_image), type(cifar_label))"
   ]
  },
  {
   "cell_type": "code",
   "execution_count": 76,
   "id": "b637a50e-6332-43ec-82d7-c8681d27beb8",
   "metadata": {},
   "outputs": [
    {
     "name": "stderr",
     "output_type": "stream",
     "text": [
      "Clipping input data to the valid range for imshow with RGB data ([0..1] for floats or [0..255] for integers).\n"
     ]
    },
    {
     "data": {
      "image/png": "[encoded data removed]",
      "text/plain": [
       "<Figure size 3200x3200 with 1 Axes>"
      ]
     },
     "metadata": {},
     "output_type": "display_data"
    }
   ],
   "source": [
    "plot_images(cifar_image)"
   ]
  },
  {
   "cell_type": "code",
   "execution_count": 77,
   "id": "c087bb92-6e2e-4e03-bbbc-669a556f9e30",
   "metadata": {},
   "outputs": [
    {
     "data": {
      "text/plain": [
       "(tensor(-1.), tensor(0.9529))"
      ]
     },
     "execution_count": 77,
     "metadata": {},
     "output_type": "execute_result"
    }
   ],
   "source": [
    "cifar_image.min(), cifar_image.max()"
   ]
  },
  {
   "cell_type": "code",
   "execution_count": 78,
   "id": "dcc3ee1f-4ec0-4d64-9c24-f0fba17277de",
   "metadata": {},
   "outputs": [
    {
     "data": {
      "text/plain": [
       "torch.Size([8, 3, 28, 28])"
      ]
     },
     "execution_count": 78,
     "metadata": {},
     "output_type": "execute_result"
    }
   ],
   "source": [
    "cifar_image.shape"
   ]
  },
  {
   "cell_type": "code",
   "execution_count": null,
   "id": "8a18806c-7612-420e-91c4-5f15c1ad7072",
   "metadata": {},
   "outputs": [],
   "source": []
  }
 ],
 "metadata": {
  "kernelspec": {
   "display_name": "Python 3 (ipykernel)",
   "language": "python",
   "name": "python3"
  },
  "language_info": {
   "codemirror_mode": {
    "name": "ipython",
    "version": 3
   },
   "file_extension": ".py",
   "mimetype": "text/x-python",
   "name": "python",
   "nbconvert_exporter": "python",
   "pygments_lexer": "ipython3",
   "version": "3.9.15"
  }
 },
 "nbformat": 4,
 "nbformat_minor": 5
}
